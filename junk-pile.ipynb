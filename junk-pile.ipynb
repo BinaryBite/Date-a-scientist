{
 "cells": [
  {
   "cell_type": "code",
   "execution_count": null,
   "metadata": {},
   "outputs": [],
   "source": [
    "import math\n",
    "\n",
    "def check_rel_other(df, column):\n",
    "    col_list = list(df.columns)\n",
    "    col_list.remove(column)\n",
    "    sizel = math.ceil(len(col_list)**(1/2))\n",
    "    fig, axes = plt.subplots(sizel, sizel, figsize = (10,10))\n",
    "\n",
    "    axes = axes.flatten()\n",
    "\n",
    "    for i in range(len(col_list)):\n",
    "        result = pd.g\n",
    "        result = df.groupby(col_list[i])[column].apply(lambda x: x.isna().sum())\n",
    "        result = result[result > 0]\n",
    "        sns.histplot(result, ax = axes[i])\n",
    "        axes[i].set_xlabel(col_list[i])\n",
    "\n",
    "    for j in range(i + 1, len(axes)):  \n",
    "        fig.delaxes(axes[j])\n",
    "        \n",
    "    plt.tight_layout()\n",
    "    plt.show()\n",
    "    plt.clf()"
   ]
  },
  {
   "cell_type": "code",
   "execution_count": null,
   "metadata": {},
   "outputs": [],
   "source": [
    "def check_rel_other(df: pd.DataFrame, column: str):\n",
    "    col_list = list(df.columns)\n",
    "    col_list.remove(column)\n",
    "\n",
    "    results = {}\n",
    "\n",
    "    for col in col_list:\n",
    "        result = df.groupby(col)[column].apply(lambda x: x.isna().sum())\n",
    "        result = result[result > 0]\n",
    "\n",
    "        results[col] = result\n",
    "    \n",
    "    return results"
   ]
  },
  {
   "cell_type": "code",
   "execution_count": null,
   "metadata": {},
   "outputs": [],
   "source": [
    "print(len(df['speaks']))\n",
    "speakeasy = df['speaks'].str.contains(r'english', case = False, na = False).sum()\n",
    "speakeasy"
   ]
  },
  {
   "cell_type": "code",
   "execution_count": null,
   "metadata": {},
   "outputs": [],
   "source": [
    "df = df.convert_dtypes() #Added after determining object attributes would be better served as strings. Essentially turns all our object attributes into strings.\n",
    "#This also reveals that height has no need to be a float.\n",
    "df.dtypes\n"
   ]
  }
 ],
 "metadata": {
  "language_info": {
   "name": "python"
  }
 },
 "nbformat": 4,
 "nbformat_minor": 2
}
