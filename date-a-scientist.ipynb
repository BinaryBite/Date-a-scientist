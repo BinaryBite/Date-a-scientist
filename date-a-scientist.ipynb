{
 "cells": [
  {
   "cell_type": "markdown",
   "metadata": {},
   "source": [
    "# Scoping\n",
    "\n",
    "### Project Goals\n",
    "\n",
    "This project is designed to utilize the skills I have learned and apply machine learning techniques to a data set. I went into this project blind and thus this project is meant to outline my method to understand and refine a dataset from scratch and derive insights from it. The initial guidance I recieved was to decide a research question at this point but without understanding the contents of a dataset, its limits and quirks, that would in my humble opinion be impossible to do.\n",
    "\n",
    "### Methodology\n",
    "\n",
    "My Method is inspired by the one provided in: {insert book title here} (which is available neatly in appendix B pg. 497). \n",
    "\n",
    "However, against the apparent rigid and formulaic nature of the method provided therin I prefer to keep my processes iterative (recursive in a way) and dynamic. The format of this document may lead to you believe that I have gone about this project in clear steps and stages but this is mostly a function of the need for presentability and concistency. The process here is iterative and dynamic.\n",
    "    \n",
    "(Especially between the cleaning and exploratitory parts there is a lot of back and forth in understanding and refining the dataset to a state of usability I deem acceptable.)\n",
    "\n",
    "1. Preliminary Analysis- Preparation for test integrity and studying of each attribute, its noisiness, distribution and possible usefulness for the task ahead.\n",
    "2. Cleaning Data - serves primarily as a cleaning of the dataset but also as an initial analysis of each of the attributes. (This is exhaustive but also good practice in refining a dataset)\n",
    "3. Exploratory Analysis - Explore the datasets relationships and patterns (Note: this is done after the clean so as to not have the exploration biased by missing values, incorrect inputs e.tc )\n",
    "4. Framing - Decide and Assess an objective, think about what a solution would look like, how I would measure its performance and list assumptions.\n",
    "5. Experimentation and refienment - testing models, validating them and evaluating them.\n",
    "6. Presentation and Interpretation - show the results and interpet them in the context of the research question\n",
    "\n",
    "The primary research question that I have detemerined to be answered is that of whether\n",
    "\n",
    "### Assumptions\n"
   ]
  },
  {
   "cell_type": "markdown",
   "metadata": {},
   "source": [
    "# Import Python Modules\n",
    "First things first is to import the python modules I will be using for this project."
   ]
  },
  {
   "cell_type": "code",
   "execution_count": 150,
   "metadata": {},
   "outputs": [],
   "source": [
    "import pandas as pd\n",
    "import seaborn as sns\n",
    "import matplotlib.pyplot as plt\n",
    "from sklearn.model_selection import train_test_split"
   ]
  },
  {
   "cell_type": "markdown",
   "metadata": {},
   "source": [
    "# Preliminary Analysis\n",
    "\n",
    "### Loading the Data\n",
    "\n",
    "The first step I take is to load the provided data into a pandas DataFrame object so that it can be efficiently explored and manipulated in python.\n",
    "\n",
    "This involves the file `profiles.csv` being loaded into the `profiles` DataFrame. It is subsequently displayed for examination."
   ]
  },
  {
   "cell_type": "code",
   "execution_count": 151,
   "metadata": {},
   "outputs": [
    {
     "data": {
      "text/html": [
       "<div>\n",
       "<style scoped>\n",
       "    .dataframe tbody tr th:only-of-type {\n",
       "        vertical-align: middle;\n",
       "    }\n",
       "\n",
       "    .dataframe tbody tr th {\n",
       "        vertical-align: top;\n",
       "    }\n",
       "\n",
       "    .dataframe thead th {\n",
       "        text-align: right;\n",
       "    }\n",
       "</style>\n",
       "<table border=\"1\" class=\"dataframe\">\n",
       "  <thead>\n",
       "    <tr style=\"text-align: right;\">\n",
       "      <th></th>\n",
       "      <th>age</th>\n",
       "      <th>body_type</th>\n",
       "      <th>diet</th>\n",
       "      <th>drinks</th>\n",
       "      <th>drugs</th>\n",
       "      <th>education</th>\n",
       "      <th>essay0</th>\n",
       "      <th>essay1</th>\n",
       "      <th>essay2</th>\n",
       "      <th>essay3</th>\n",
       "      <th>essay4</th>\n",
       "      <th>essay5</th>\n",
       "      <th>essay6</th>\n",
       "      <th>essay7</th>\n",
       "      <th>essay8</th>\n",
       "      <th>essay9</th>\n",
       "      <th>ethnicity</th>\n",
       "      <th>height</th>\n",
       "      <th>income</th>\n",
       "      <th>job</th>\n",
       "      <th>last_online</th>\n",
       "      <th>location</th>\n",
       "      <th>offspring</th>\n",
       "      <th>orientation</th>\n",
       "      <th>pets</th>\n",
       "      <th>religion</th>\n",
       "      <th>sex</th>\n",
       "      <th>sign</th>\n",
       "      <th>smokes</th>\n",
       "      <th>speaks</th>\n",
       "      <th>status</th>\n",
       "    </tr>\n",
       "  </thead>\n",
       "  <tbody>\n",
       "    <tr>\n",
       "      <th>0</th>\n",
       "      <td>22</td>\n",
       "      <td>a little extra</td>\n",
       "      <td>strictly anything</td>\n",
       "      <td>socially</td>\n",
       "      <td>never</td>\n",
       "      <td>working on college/university</td>\n",
       "      <td>about me:&lt;br /&gt;\\r\\n&lt;br /&gt;\\r\\ni would love to t...</td>\n",
       "      <td>currently working as an international agent fo...</td>\n",
       "      <td>making people laugh.&lt;br /&gt;\\r\\nranting about a ...</td>\n",
       "      <td>the way i look. i am a six foot half asian, ha...</td>\n",
       "      <td>books:&lt;br /&gt;\\r\\nabsurdistan, the republic, of ...</td>\n",
       "      <td>food.&lt;br /&gt;\\r\\nwater.&lt;br /&gt;\\r\\ncell phone.&lt;br ...</td>\n",
       "      <td>duality and humorous things</td>\n",
       "      <td>trying to find someone to hang out with. i am ...</td>\n",
       "      <td>i am new to california and looking for someone...</td>\n",
       "      <td>you want to be swept off your feet!&lt;br /&gt;\\r\\ny...</td>\n",
       "      <td>asian, white</td>\n",
       "      <td>75.0</td>\n",
       "      <td>-1</td>\n",
       "      <td>transportation</td>\n",
       "      <td>2012-06-28-20-30</td>\n",
       "      <td>south san francisco, california</td>\n",
       "      <td>doesn&amp;rsquo;t have kids, but might want them</td>\n",
       "      <td>straight</td>\n",
       "      <td>likes dogs and likes cats</td>\n",
       "      <td>agnosticism and very serious about it</td>\n",
       "      <td>m</td>\n",
       "      <td>gemini</td>\n",
       "      <td>sometimes</td>\n",
       "      <td>english</td>\n",
       "      <td>single</td>\n",
       "    </tr>\n",
       "    <tr>\n",
       "      <th>1</th>\n",
       "      <td>35</td>\n",
       "      <td>average</td>\n",
       "      <td>mostly other</td>\n",
       "      <td>often</td>\n",
       "      <td>sometimes</td>\n",
       "      <td>working on space camp</td>\n",
       "      <td>i am a chef: this is what that means.&lt;br /&gt;\\r\\...</td>\n",
       "      <td>dedicating everyday to being an unbelievable b...</td>\n",
       "      <td>being silly. having ridiculous amonts of fun w...</td>\n",
       "      <td>NaN</td>\n",
       "      <td>i am die hard christopher moore fan. i don't r...</td>\n",
       "      <td>delicious porkness in all of its glories.&lt;br /...</td>\n",
       "      <td>NaN</td>\n",
       "      <td>NaN</td>\n",
       "      <td>i am very open and will share just about anyth...</td>\n",
       "      <td>NaN</td>\n",
       "      <td>white</td>\n",
       "      <td>70.0</td>\n",
       "      <td>80000</td>\n",
       "      <td>hospitality / travel</td>\n",
       "      <td>2012-06-29-21-41</td>\n",
       "      <td>oakland, california</td>\n",
       "      <td>doesn&amp;rsquo;t have kids, but might want them</td>\n",
       "      <td>straight</td>\n",
       "      <td>likes dogs and likes cats</td>\n",
       "      <td>agnosticism but not too serious about it</td>\n",
       "      <td>m</td>\n",
       "      <td>cancer</td>\n",
       "      <td>no</td>\n",
       "      <td>english (fluently), spanish (poorly), french (...</td>\n",
       "      <td>single</td>\n",
       "    </tr>\n",
       "    <tr>\n",
       "      <th>2</th>\n",
       "      <td>38</td>\n",
       "      <td>thin</td>\n",
       "      <td>anything</td>\n",
       "      <td>socially</td>\n",
       "      <td>NaN</td>\n",
       "      <td>graduated from masters program</td>\n",
       "      <td>i'm not ashamed of much, but writing public te...</td>\n",
       "      <td>i make nerdy software for musicians, artists, ...</td>\n",
       "      <td>improvising in different contexts. alternating...</td>\n",
       "      <td>my large jaw and large glasses are the physica...</td>\n",
       "      <td>okay this is where the cultural matrix gets so...</td>\n",
       "      <td>movement&lt;br /&gt;\\r\\nconversation&lt;br /&gt;\\r\\ncreati...</td>\n",
       "      <td>NaN</td>\n",
       "      <td>viewing. listening. dancing. talking. drinking...</td>\n",
       "      <td>when i was five years old, i was known as \"the...</td>\n",
       "      <td>you are bright, open, intense, silly, ironic, ...</td>\n",
       "      <td>NaN</td>\n",
       "      <td>68.0</td>\n",
       "      <td>-1</td>\n",
       "      <td>NaN</td>\n",
       "      <td>2012-06-27-09-10</td>\n",
       "      <td>san francisco, california</td>\n",
       "      <td>NaN</td>\n",
       "      <td>straight</td>\n",
       "      <td>has cats</td>\n",
       "      <td>NaN</td>\n",
       "      <td>m</td>\n",
       "      <td>pisces but it doesn&amp;rsquo;t matter</td>\n",
       "      <td>no</td>\n",
       "      <td>english, french, c++</td>\n",
       "      <td>available</td>\n",
       "    </tr>\n",
       "    <tr>\n",
       "      <th>3</th>\n",
       "      <td>23</td>\n",
       "      <td>thin</td>\n",
       "      <td>vegetarian</td>\n",
       "      <td>socially</td>\n",
       "      <td>NaN</td>\n",
       "      <td>working on college/university</td>\n",
       "      <td>i work in a library and go to school. . .</td>\n",
       "      <td>reading things written by old dead people</td>\n",
       "      <td>playing synthesizers and organizing books acco...</td>\n",
       "      <td>socially awkward but i do my best</td>\n",
       "      <td>bataille, celine, beckett. . .&lt;br /&gt;\\r\\nlynch,...</td>\n",
       "      <td>NaN</td>\n",
       "      <td>cats and german philosophy</td>\n",
       "      <td>NaN</td>\n",
       "      <td>NaN</td>\n",
       "      <td>you feel so inclined.</td>\n",
       "      <td>white</td>\n",
       "      <td>71.0</td>\n",
       "      <td>20000</td>\n",
       "      <td>student</td>\n",
       "      <td>2012-06-28-14-22</td>\n",
       "      <td>berkeley, california</td>\n",
       "      <td>doesn&amp;rsquo;t want kids</td>\n",
       "      <td>straight</td>\n",
       "      <td>likes cats</td>\n",
       "      <td>NaN</td>\n",
       "      <td>m</td>\n",
       "      <td>pisces</td>\n",
       "      <td>no</td>\n",
       "      <td>english, german (poorly)</td>\n",
       "      <td>single</td>\n",
       "    </tr>\n",
       "    <tr>\n",
       "      <th>4</th>\n",
       "      <td>29</td>\n",
       "      <td>athletic</td>\n",
       "      <td>NaN</td>\n",
       "      <td>socially</td>\n",
       "      <td>never</td>\n",
       "      <td>graduated from college/university</td>\n",
       "      <td>hey how's it going? currently vague on the pro...</td>\n",
       "      <td>work work work work + play</td>\n",
       "      <td>creating imagery to look at:&lt;br /&gt;\\r\\nhttp://b...</td>\n",
       "      <td>i smile a lot and my inquisitive nature</td>\n",
       "      <td>music: bands, rappers, musicians&lt;br /&gt;\\r\\nat t...</td>\n",
       "      <td>NaN</td>\n",
       "      <td>NaN</td>\n",
       "      <td>NaN</td>\n",
       "      <td>NaN</td>\n",
       "      <td>NaN</td>\n",
       "      <td>asian, black, other</td>\n",
       "      <td>66.0</td>\n",
       "      <td>-1</td>\n",
       "      <td>artistic / musical / writer</td>\n",
       "      <td>2012-06-27-21-26</td>\n",
       "      <td>san francisco, california</td>\n",
       "      <td>NaN</td>\n",
       "      <td>straight</td>\n",
       "      <td>likes dogs and likes cats</td>\n",
       "      <td>NaN</td>\n",
       "      <td>m</td>\n",
       "      <td>aquarius</td>\n",
       "      <td>no</td>\n",
       "      <td>english</td>\n",
       "      <td>single</td>\n",
       "    </tr>\n",
       "  </tbody>\n",
       "</table>\n",
       "</div>"
      ],
      "text/plain": [
       "   age  ...     status\n",
       "0   22  ...     single\n",
       "1   35  ...     single\n",
       "2   38  ...  available\n",
       "3   23  ...     single\n",
       "4   29  ...     single\n",
       "\n",
       "[5 rows x 31 columns]"
      ]
     },
     "execution_count": 151,
     "metadata": {},
     "output_type": "execute_result"
    }
   ],
   "source": [
    "df = pd.read_csv('profiles.csv', encoding = 'utf-8')\n",
    "df.reset_index()\n",
    "df.head()"
   ]
  },
  {
   "cell_type": "markdown",
   "metadata": {},
   "source": [
    "Straight away I can tell there is no point in looking at the value counts of the `essay{number}` columns as they are more likely infinitely variable, will not have any repeating entries and this project doesn't involve NLP. Let's drop them immediately."
   ]
  },
  {
   "cell_type": "code",
   "execution_count": 152,
   "metadata": {},
   "outputs": [],
   "source": [
    "essays = [f'essay{i}' for i in range(0, 10, 1)]\n",
    "df.drop(essays, axis = 1, inplace = True)"
   ]
  },
  {
   "cell_type": "markdown",
   "metadata": {},
   "source": [
    "### Identifying the Data Characteristics\n",
    "\n",
    "First it is advisable to look at the data types and columns presented to us in the data and determine how much data we are dealing with exactly.\n",
    "\n",
    "Doing a few simple calls to variables of the dataframe reveals that our dating profiles data consists of 59,946 rows (or users) and 31 attributes/columns.\n",
    "\n",
    "Each column's name is sort of self descriptive of what sort of information is expected therein so there is no need to elaborate them here, any nuance within them will be explained in further parts."
   ]
  },
  {
   "cell_type": "code",
   "execution_count": 153,
   "metadata": {},
   "outputs": [
    {
     "name": "stdout",
     "output_type": "stream",
     "text": [
      "<class 'pandas.core.frame.DataFrame'>\n",
      "RangeIndex: 59946 entries, 0 to 59945\n",
      "Data columns (total 21 columns):\n",
      " #   Column       Non-Null Count  Dtype  \n",
      "---  ------       --------------  -----  \n",
      " 0   age          59946 non-null  int64  \n",
      " 1   body_type    54650 non-null  object \n",
      " 2   diet         35551 non-null  object \n",
      " 3   drinks       56961 non-null  object \n",
      " 4   drugs        45866 non-null  object \n",
      " 5   education    53318 non-null  object \n",
      " 6   ethnicity    54266 non-null  object \n",
      " 7   height       59943 non-null  float64\n",
      " 8   income       59946 non-null  int64  \n",
      " 9   job          51748 non-null  object \n",
      " 10  last_online  59946 non-null  object \n",
      " 11  location     59946 non-null  object \n",
      " 12  offspring    24385 non-null  object \n",
      " 13  orientation  59946 non-null  object \n",
      " 14  pets         40025 non-null  object \n",
      " 15  religion     39720 non-null  object \n",
      " 16  sex          59946 non-null  object \n",
      " 17  sign         48890 non-null  object \n",
      " 18  smokes       54434 non-null  object \n",
      " 19  speaks       59896 non-null  object \n",
      " 20  status       59946 non-null  object \n",
      "dtypes: float64(1), int64(2), object(18)\n",
      "memory usage: 9.6+ MB\n",
      "None\n"
     ]
    }
   ],
   "source": [
    "print(df.info())"
   ]
  },
  {
   "cell_type": "markdown",
   "metadata": {},
   "source": [
    "### Setting Asside A Sample Test Set\n",
    "\n",
    "This ensures we keep data snooping bias out of our project! The dataset is quite large so I am assuming there is no need for stratefied sampling."
   ]
  },
  {
   "cell_type": "code",
   "execution_count": 154,
   "metadata": {},
   "outputs": [],
   "source": [
    "train_set, test_set = train_test_split(df, test_size = 0.1, random_state = 10)\n",
    "profiles = train_set.copy()"
   ]
  },
  {
   "cell_type": "markdown",
   "metadata": {},
   "source": [
    "# Data Cleaning\n",
    "\n",
    "First up is to clean the data and make sure it is suitable for use. My cleaning process for a single dataset consists of five steps:\n",
    "\n",
    "\n",
    "1. Handling duplicates and rows\n",
    "2. Simplifying and standardizng attributes \n",
    "3. Handling missing values\n",
    "4. Handling outliers\n",
    "5. Handling inconsitent attributes \n",
    "\n",
    "## Handling Duplicates\n",
    "\n",
    "First let's check if there are any duplicate entries in the dataset."
   ]
  },
  {
   "cell_type": "code",
   "execution_count": 155,
   "metadata": {},
   "outputs": [
    {
     "data": {
      "text/plain": [
       "np.int64(0)"
      ]
     },
     "execution_count": 155,
     "metadata": {},
     "output_type": "execute_result"
    }
   ],
   "source": [
    "profiles.duplicated().sum()"
   ]
  },
  {
   "cell_type": "markdown",
   "metadata": {},
   "source": [
    "Looks like we are all clear on duplicate entries."
   ]
  },
  {
   "cell_type": "code",
   "execution_count": 156,
   "metadata": {},
   "outputs": [],
   "source": [
    "for col in profiles.select_dtypes(include = 'object').columns:\n",
    "    profiles[col] = profiles[col].astype(str)"
   ]
  },
  {
   "cell_type": "markdown",
   "metadata": {},
   "source": [
    "## Simplifying attributes\n",
    "\n",
    "This section's general aim is to simplify primarily categorical attributes that have way too many different catagories and potentially give NA entries actual values.\n",
    "\n",
    "From a brief look at the number of unique values and a little reference back up to our dtypes (plus a little behind the scenes checks on value counts) we can see that a few columns are up for a little simplification, these being:\n",
    "\n",
    "1. education\n",
    "2. ethnicity\n",
    "3. speaks\n",
    "4. pets\n",
    "5. religion\n",
    "6. sign\n",
    "7. speaks\n",
    "8. diet\n",
    "9. offspring\n",
    "\n",
    "Additionally we want to sort out the corrupted strings in:\n",
    "1. offspring\n",
    "2. sign\n",
    "\n",
    "#NOTE INCOME IS FUNNY AS IT MIGHT AS WELL BE CATEGORICAL AS IT IS A SET OF NUMERICAL BRACKETS (ie. 20000, 100000, 80000) that people are put under."
   ]
  },
  {
   "cell_type": "code",
   "execution_count": 157,
   "metadata": {},
   "outputs": [
    {
     "data": {
      "text/plain": [
       "age               54\n",
       "body_type         13\n",
       "diet              19\n",
       "drinks             7\n",
       "drugs              4\n",
       "education         33\n",
       "ethnicity        210\n",
       "height            57\n",
       "income            13\n",
       "job               22\n",
       "last_online    27849\n",
       "location         193\n",
       "offspring         16\n",
       "orientation        3\n",
       "pets              16\n",
       "religion          46\n",
       "sex                2\n",
       "sign              49\n",
       "smokes             6\n",
       "speaks          7078\n",
       "status             5\n",
       "dtype: int64"
      ]
     },
     "execution_count": 157,
     "metadata": {},
     "output_type": "execute_result"
    }
   ],
   "source": [
    "profiles.nunique()\n"
   ]
  },
  {
   "cell_type": "markdown",
   "metadata": {},
   "source": [
    "### Simplifying Education"
   ]
  },
  {
   "cell_type": "code",
   "execution_count": 158,
   "metadata": {},
   "outputs": [
    {
     "data": {
      "text/plain": [
       "education\n",
       "graduated from college/university    23959\n",
       "graduated from masters program        8961\n",
       "NaN                                   6628\n",
       "working on college/university         5712\n",
       "working on masters program            1683\n",
       "graduated from two-year college       1531\n",
       "graduated from high school            1428\n",
       "graduated from ph.d program           1272\n",
       "graduated from law school             1122\n",
       "working on two-year college           1074\n",
       "dropped out of college/university      995\n",
       "working on ph.d program                983\n",
       "college/university                     801\n",
       "graduated from space camp              657\n",
       "dropped out of space camp              523\n",
       "graduated from med school              446\n",
       "working on space camp                  445\n",
       "working on law school                  269\n",
       "two-year college                       222\n",
       "working on med school                  212\n",
       "dropped out of two-year college        191\n",
       "dropped out of masters program         140\n",
       "masters program                        136\n",
       "dropped out of ph.d program            127\n",
       "dropped out of high school             102\n",
       "high school                             96\n",
       "working on high school                  87\n",
       "space camp                              58\n",
       "ph.d program                            26\n",
       "law school                              19\n",
       "dropped out of law school               18\n",
       "dropped out of med school               12\n",
       "med school                              11\n",
       "Name: count, dtype: int64"
      ]
     },
     "execution_count": 158,
     "metadata": {},
     "output_type": "execute_result"
    }
   ],
   "source": [
    "df.education.value_counts(dropna = False)"
   ]
  },
  {
   "cell_type": "code",
   "execution_count": 159,
   "metadata": {},
   "outputs": [],
   "source": [
    "def replacer(lst, x, string1 = None):\n",
    "    if isinstance(x, str):\n",
    "        for l in lst:\n",
    "            if l.lower() in x.lower():\n",
    "                return l\n",
    "        if isinstance(string1, str):\n",
    "            return string1\n",
    "    else:\n",
    "        return pd.NA"
   ]
  },
  {
   "cell_type": "code",
   "execution_count": 160,
   "metadata": {},
   "outputs": [
    {
     "data": {
      "text/plain": [
       "education_status\n",
       "graduated      42646\n",
       "working on      9418\n",
       "dropped out     1887\n",
       "Name: count, dtype: int64"
      ]
     },
     "execution_count": 160,
     "metadata": {},
     "output_type": "execute_result"
    }
   ],
   "source": [
    "#create new column for education level\n",
    "edu = ['space camp', 'high school', 'two-year college', 'college/university', 'law school', 'med school', 'masters', 'ph.d']\n",
    "profiles['education_level'] = profiles['education'].apply(lambda x: replacer(edu, x))\n",
    "\n",
    "#create new column for education status \n",
    "edu = ['dropped out', 'working on', 'graduated']\n",
    "profiles['education_status'] = profiles['education'].apply(lambda x: replacer(edu, x, 'graduated'))\n",
    "\n",
    "#get rid of the old education column\n",
    "profiles.drop(columns = 'education', inplace = True)\n",
    "profiles.education_status.value_counts(dropna = False)"
   ]
  },
  {
   "cell_type": "markdown",
   "metadata": {},
   "source": [
    "### Simplifying Ethnicity"
   ]
  },
  {
   "cell_type": "code",
   "execution_count": 161,
   "metadata": {},
   "outputs": [
    {
     "data": {
      "text/plain": [
       "58549                        nan\n",
       "47532           hispanic / latin\n",
       "10441                      white\n",
       "15109                        nan\n",
       "37090                      white\n",
       "4581                         nan\n",
       "33931                        nan\n",
       "43786    hispanic / latin, white\n",
       "17051                     indian\n",
       "53283                      white\n",
       "Name: ethnicity, dtype: object"
      ]
     },
     "execution_count": 161,
     "metadata": {},
     "output_type": "execute_result"
    }
   ],
   "source": [
    "profiles.ethnicity.head(10)"
   ]
  },
  {
   "cell_type": "code",
   "execution_count": 162,
   "metadata": {},
   "outputs": [
    {
     "data": {
      "text/plain": [
       "ethnicity\n",
       "white                                                                       29517\n",
       "asian                                                                        5552\n",
       "nan                                                                          5118\n",
       "hispanic / latin                                                             2542\n",
       "black                                                                        1799\n",
       "                                                                            ...  \n",
       "asian, middle eastern, black, pacific islander, hispanic / latin                1\n",
       "asian, middle eastern, native american, pacific islander, other                 1\n",
       "asian, black, native american, other                                            1\n",
       "middle eastern, black, indian, pacific islander, hispanic / latin, white        1\n",
       "indian, pacific islander, hispanic / latin, white                               1\n",
       "Name: count, Length: 210, dtype: int64"
      ]
     },
     "execution_count": 162,
     "metadata": {},
     "output_type": "execute_result"
    }
   ],
   "source": [
    "profiles['ethnicity'].value_counts(dropna = False)"
   ]
  },
  {
   "cell_type": "markdown",
   "metadata": {},
   "source": [
    "One of first things we can notice about our ethnicity values is that there are a lot of people who are an ethnicity onto themselves, which might be interesting for anthropologists but unfortunately for us is not very good for ML models as they aren't very generalizable.\n",
    "\n",
    "Let's make things a bit simpler and of course this involves an assumption:\n",
    "\n",
    "1. If a person has multiple ethnicities (more than 3) they can be assumed to be part of a group (mixed) and that this group can be generalized to be the same and the patterns in the data are still maintained. (FLAWED?)\n",
    "\n",
    "The rest will be simplified by splitting people into their primary and secondary ethnicity (the majority of the dataset adheres to this cleanly) while people with multiple ethnicities will be put down as mixed for both ethnicity 1 and 2."
   ]
  },
  {
   "cell_type": "code",
   "execution_count": 163,
   "metadata": {},
   "outputs": [],
   "source": [
    "#This is a little helper function made to cut down any multiple ethnicity entires into something more palatable.\n",
    "#Comments explain what it does for this particualr attribute.\n",
    "def long_handler(x, string1):\n",
    "    if isinstance(x, str):\n",
    "        x = x.split(\",\")\n",
    "\n",
    "        if len(x) < 3:\n",
    "            if len(x) == 1:\n",
    "                return(x.pop()) # if someone is just 1 ethnicity than return that one ethnicity\n",
    "            else:\n",
    "                return x # if someone is two ethnicities than just send those back too\n",
    "        else:\n",
    "            return string1 #if the number of ethnicities a person is, is greater than 3 then return them as mixed\n",
    "    \n",
    "    else:\n",
    "        return pd.NA #if the entry is N/A or somehow not a string then return N/A\n"
   ]
  },
  {
   "cell_type": "code",
   "execution_count": 164,
   "metadata": {},
   "outputs": [
    {
     "data": {
      "text/html": [
       "<div>\n",
       "<style scoped>\n",
       "    .dataframe tbody tr th:only-of-type {\n",
       "        vertical-align: middle;\n",
       "    }\n",
       "\n",
       "    .dataframe tbody tr th {\n",
       "        vertical-align: top;\n",
       "    }\n",
       "\n",
       "    .dataframe thead th {\n",
       "        text-align: right;\n",
       "    }\n",
       "</style>\n",
       "<table border=\"1\" class=\"dataframe\">\n",
       "  <thead>\n",
       "    <tr style=\"text-align: right;\">\n",
       "      <th></th>\n",
       "      <th>ethnicity_1</th>\n",
       "      <th>ethnicity_2</th>\n",
       "    </tr>\n",
       "  </thead>\n",
       "  <tbody>\n",
       "    <tr>\n",
       "      <th>58549</th>\n",
       "      <td>nan</td>\n",
       "      <td>nan</td>\n",
       "    </tr>\n",
       "    <tr>\n",
       "      <th>47532</th>\n",
       "      <td>hispanic / latin</td>\n",
       "      <td>hispanic / latin</td>\n",
       "    </tr>\n",
       "    <tr>\n",
       "      <th>10441</th>\n",
       "      <td>white</td>\n",
       "      <td>white</td>\n",
       "    </tr>\n",
       "    <tr>\n",
       "      <th>15109</th>\n",
       "      <td>nan</td>\n",
       "      <td>nan</td>\n",
       "    </tr>\n",
       "    <tr>\n",
       "      <th>37090</th>\n",
       "      <td>white</td>\n",
       "      <td>white</td>\n",
       "    </tr>\n",
       "    <tr>\n",
       "      <th>4581</th>\n",
       "      <td>nan</td>\n",
       "      <td>nan</td>\n",
       "    </tr>\n",
       "    <tr>\n",
       "      <th>33931</th>\n",
       "      <td>nan</td>\n",
       "      <td>nan</td>\n",
       "    </tr>\n",
       "    <tr>\n",
       "      <th>43786</th>\n",
       "      <td>hispanic / latin</td>\n",
       "      <td>white</td>\n",
       "    </tr>\n",
       "    <tr>\n",
       "      <th>17051</th>\n",
       "      <td>indian</td>\n",
       "      <td>indian</td>\n",
       "    </tr>\n",
       "    <tr>\n",
       "      <th>53283</th>\n",
       "      <td>white</td>\n",
       "      <td>white</td>\n",
       "    </tr>\n",
       "  </tbody>\n",
       "</table>\n",
       "</div>"
      ],
      "text/plain": [
       "            ethnicity_1       ethnicity_2\n",
       "58549               nan               nan\n",
       "47532  hispanic / latin  hispanic / latin\n",
       "10441             white             white\n",
       "15109               nan               nan\n",
       "37090             white             white\n",
       "4581                nan               nan\n",
       "33931               nan               nan\n",
       "43786  hispanic / latin             white\n",
       "17051            indian            indian\n",
       "53283             white             white"
      ]
     },
     "execution_count": 164,
     "metadata": {},
     "output_type": "execute_result"
    }
   ],
   "source": [
    "profiles.ethnicity = profiles.ethnicity.apply(lambda x: long_handler(x, 'mixed'))\n",
    "profiles[\"ethnicity_1\"] = profiles.ethnicity.apply(lambda x: x[0] if isinstance(x, list) else x)\n",
    "profiles[\"ethnicity_2\"] = profiles.ethnicity.apply(lambda x: x[1] if isinstance(x, list) else x)\n",
    "\n",
    "profiles.drop(columns = ['ethnicity'], inplace = True)\n",
    "\n",
    "profiles[[\"ethnicity_1\", \"ethnicity_2\"]].head(10)"
   ]
  },
  {
   "cell_type": "markdown",
   "metadata": {},
   "source": [
    "### Simplifying Pets"
   ]
  },
  {
   "cell_type": "code",
   "execution_count": 165,
   "metadata": {},
   "outputs": [
    {
     "data": {
      "text/plain": [
       "pets\n",
       "nan                                17889\n",
       "likes dogs and likes cats          13375\n",
       "likes dogs                          6512\n",
       "likes dogs and has cats             3855\n",
       "has dogs                            3753\n",
       "has dogs and likes cats             2084\n",
       "likes dogs and dislikes cats        1844\n",
       "has dogs and has cats               1334\n",
       "has cats                            1257\n",
       "likes cats                           941\n",
       "has dogs and dislikes cats           496\n",
       "dislikes dogs and likes cats         215\n",
       "dislikes dogs and dislikes cats      172\n",
       "dislikes cats                        110\n",
       "dislikes dogs and has cats            75\n",
       "dislikes dogs                         39\n",
       "Name: count, dtype: int64"
      ]
     },
     "execution_count": 165,
     "metadata": {},
     "output_type": "execute_result"
    }
   ],
   "source": [
    "profiles.pets.value_counts(dropna = False)"
   ]
  },
  {
   "cell_type": "markdown",
   "metadata": {},
   "source": [
    "The `pets` column has a lot of different categories but can be easily simplified into two columns where cat and dog dispositions are represented seperately."
   ]
  },
  {
   "cell_type": "code",
   "execution_count": 166,
   "metadata": {},
   "outputs": [],
   "source": [
    "#Another little helper function made to seprate our pet lovers opinions on cats and dogs clearly.\n",
    "def pet_sentiment(x, pet: str):\n",
    "\n",
    "    if isinstance(x, str):\n",
    "        if \" and \" in x:\n",
    "            result = x.split(\" and \")\n",
    "            if pet == 'dog':\n",
    "                result1 = result[0].removesuffix(\" dogs\")\n",
    "                return result1\n",
    "            elif pet == 'cat':\n",
    "                result2 = result[1].removesuffix(\" cats\")\n",
    "                return result2\n",
    "    \n",
    "        elif  pet == 'dog':\n",
    "            if \"dogs\" in x:\n",
    "                result1 = x.removesuffix(\" dogs\")\n",
    "                return result1\n",
    "            else:\n",
    "                return 'no opinion'\n",
    "        elif pet == 'cat':\n",
    "            if \"cats\" in x:\n",
    "                result2 = x.removesuffix(\" cats\")\n",
    "                return result2\n",
    "            else:\n",
    "                return 'no opinion'\n",
    "    else:   \n",
    "        return pd.NA"
   ]
  },
  {
   "cell_type": "code",
   "execution_count": 167,
   "metadata": {},
   "outputs": [
    {
     "data": {
      "text/html": [
       "<div>\n",
       "<style scoped>\n",
       "    .dataframe tbody tr th:only-of-type {\n",
       "        vertical-align: middle;\n",
       "    }\n",
       "\n",
       "    .dataframe tbody tr th {\n",
       "        vertical-align: top;\n",
       "    }\n",
       "\n",
       "    .dataframe thead th {\n",
       "        text-align: right;\n",
       "    }\n",
       "</style>\n",
       "<table border=\"1\" class=\"dataframe\">\n",
       "  <thead>\n",
       "    <tr style=\"text-align: right;\">\n",
       "      <th></th>\n",
       "      <th>cats</th>\n",
       "      <th>dogs</th>\n",
       "    </tr>\n",
       "  </thead>\n",
       "  <tbody>\n",
       "    <tr>\n",
       "      <th>58549</th>\n",
       "      <td>no opinion</td>\n",
       "      <td>likes</td>\n",
       "    </tr>\n",
       "    <tr>\n",
       "      <th>47532</th>\n",
       "      <td>no opinion</td>\n",
       "      <td>has</td>\n",
       "    </tr>\n",
       "    <tr>\n",
       "      <th>10441</th>\n",
       "      <td>likes</td>\n",
       "      <td>likes</td>\n",
       "    </tr>\n",
       "    <tr>\n",
       "      <th>15109</th>\n",
       "      <td>no opinion</td>\n",
       "      <td>no opinion</td>\n",
       "    </tr>\n",
       "    <tr>\n",
       "      <th>37090</th>\n",
       "      <td>no opinion</td>\n",
       "      <td>has</td>\n",
       "    </tr>\n",
       "    <tr>\n",
       "      <th>4581</th>\n",
       "      <td>has</td>\n",
       "      <td>likes</td>\n",
       "    </tr>\n",
       "    <tr>\n",
       "      <th>33931</th>\n",
       "      <td>no opinion</td>\n",
       "      <td>likes</td>\n",
       "    </tr>\n",
       "    <tr>\n",
       "      <th>43786</th>\n",
       "      <td>no opinion</td>\n",
       "      <td>no opinion</td>\n",
       "    </tr>\n",
       "    <tr>\n",
       "      <th>17051</th>\n",
       "      <td>likes</td>\n",
       "      <td>likes</td>\n",
       "    </tr>\n",
       "    <tr>\n",
       "      <th>53283</th>\n",
       "      <td>no opinion</td>\n",
       "      <td>no opinion</td>\n",
       "    </tr>\n",
       "    <tr>\n",
       "      <th>38868</th>\n",
       "      <td>no opinion</td>\n",
       "      <td>no opinion</td>\n",
       "    </tr>\n",
       "    <tr>\n",
       "      <th>57173</th>\n",
       "      <td>no opinion</td>\n",
       "      <td>has</td>\n",
       "    </tr>\n",
       "    <tr>\n",
       "      <th>48236</th>\n",
       "      <td>likes</td>\n",
       "      <td>likes</td>\n",
       "    </tr>\n",
       "    <tr>\n",
       "      <th>39843</th>\n",
       "      <td>no opinion</td>\n",
       "      <td>no opinion</td>\n",
       "    </tr>\n",
       "    <tr>\n",
       "      <th>4190</th>\n",
       "      <td>no opinion</td>\n",
       "      <td>no opinion</td>\n",
       "    </tr>\n",
       "    <tr>\n",
       "      <th>29505</th>\n",
       "      <td>likes</td>\n",
       "      <td>likes</td>\n",
       "    </tr>\n",
       "    <tr>\n",
       "      <th>14085</th>\n",
       "      <td>likes</td>\n",
       "      <td>likes</td>\n",
       "    </tr>\n",
       "    <tr>\n",
       "      <th>34494</th>\n",
       "      <td>no opinion</td>\n",
       "      <td>no opinion</td>\n",
       "    </tr>\n",
       "    <tr>\n",
       "      <th>18278</th>\n",
       "      <td>likes</td>\n",
       "      <td>likes</td>\n",
       "    </tr>\n",
       "    <tr>\n",
       "      <th>20070</th>\n",
       "      <td>no opinion</td>\n",
       "      <td>no opinion</td>\n",
       "    </tr>\n",
       "  </tbody>\n",
       "</table>\n",
       "</div>"
      ],
      "text/plain": [
       "             cats        dogs\n",
       "58549  no opinion       likes\n",
       "47532  no opinion         has\n",
       "10441       likes       likes\n",
       "15109  no opinion  no opinion\n",
       "37090  no opinion         has\n",
       "4581          has       likes\n",
       "33931  no opinion       likes\n",
       "43786  no opinion  no opinion\n",
       "17051       likes       likes\n",
       "53283  no opinion  no opinion\n",
       "38868  no opinion  no opinion\n",
       "57173  no opinion         has\n",
       "48236       likes       likes\n",
       "39843  no opinion  no opinion\n",
       "4190   no opinion  no opinion\n",
       "29505       likes       likes\n",
       "14085       likes       likes\n",
       "34494  no opinion  no opinion\n",
       "18278       likes       likes\n",
       "20070  no opinion  no opinion"
      ]
     },
     "execution_count": 167,
     "metadata": {},
     "output_type": "execute_result"
    }
   ],
   "source": [
    "profiles['dogs'] = profiles.pets.apply(lambda x: pet_sentiment(x, 'dog'))\n",
    "profiles['cats'] = profiles.pets.apply(lambda x: pet_sentiment(x, 'cat'))\n",
    "\n",
    "profiles.drop(columns = ['pets'], inplace = True)\n",
    "\n",
    "profiles[['cats', 'dogs']].head(20)"
   ]
  },
  {
   "cell_type": "markdown",
   "metadata": {},
   "source": [
    "### Simplifying `religion`"
   ]
  },
  {
   "cell_type": "code",
   "execution_count": 168,
   "metadata": {},
   "outputs": [
    {
     "data": {
      "text/plain": [
       "religion\n",
       "nan                                           18188\n",
       "agnosticism                                    2458\n",
       "other                                          2440\n",
       "agnosticism but not too serious about it       2363\n",
       "agnosticism and laughing about it              2260\n",
       "catholicism but not too serious about it       2100\n",
       "atheism                                        1956\n",
       "other and laughing about it                    1898\n",
       "atheism and laughing about it                  1874\n",
       "christianity                                   1749\n",
       "christianity but not too serious about it      1743\n",
       "other but not too serious about it             1398\n",
       "judaism but not too serious about it           1372\n",
       "atheism but not too serious about it           1182\n",
       "catholicism                                     948\n",
       "christianity and somewhat serious about it      820\n",
       "other and somewhat serious about it             761\n",
       "atheism and somewhat serious about it           754\n",
       "catholicism and laughing about it               671\n",
       "judaism and laughing about it                   621\n",
       "buddhism but not too serious about it           599\n",
       "agnosticism and somewhat serious about it       574\n",
       "judaism                                         542\n",
       "christianity and very serious about it          522\n",
       "atheism and very serious about it               508\n",
       "catholicism and somewhat serious about it       484\n",
       "other and very serious about it                 479\n",
       "buddhism and laughing about it                  422\n",
       "buddhism                                        363\n",
       "christianity and laughing about it              332\n",
       "buddhism and somewhat serious about it          332\n",
       "agnosticism and very serious about it           287\n",
       "judaism and somewhat serious about it           241\n",
       "hinduism but not too serious about it           200\n",
       "hinduism                                         99\n",
       "catholicism and very serious about it            98\n",
       "buddhism and very serious about it               63\n",
       "hinduism and somewhat serious about it           52\n",
       "islam                                            43\n",
       "hinduism and laughing about it                   40\n",
       "islam but not too serious about it               35\n",
       "judaism and very serious about it                22\n",
       "islam and somewhat serious about it              18\n",
       "islam and laughing about it                      16\n",
       "hinduism and very serious about it               14\n",
       "islam and very serious about it                  10\n",
       "Name: count, dtype: int64"
      ]
     },
     "execution_count": 168,
     "metadata": {},
     "output_type": "execute_result"
    }
   ],
   "source": [
    "profiles.religion.value_counts(dropna = False)"
   ]
  },
  {
   "cell_type": "markdown",
   "metadata": {},
   "source": [
    "Another attribute with a lot of N/A but looking at the actual data here we can clearly see that this attribute containts two specific parts of a persons religion. These being\n",
    "1. Their actual religion\n",
    "2. Their seriousness about it\n",
    "\n",
    "So to capture this and reduce our possible values we can just cut it cleanly into the much more limited options of `religous_prefence` (8 possible values from my counts) and `religious_sentiment` (4 possible values) greatly reducing the possible values of this attribute from 45 possible values (excluding N/A) (Some entries don't have sentiment)"
   ]
  },
  {
   "cell_type": "code",
   "execution_count": 169,
   "metadata": {},
   "outputs": [],
   "source": [
    "def replacer(lst, x, string1 = None):\n",
    "    if isinstance(x, str):\n",
    "        for l in lst:\n",
    "            if l.lower() in x.lower():\n",
    "                return l\n",
    "        if isinstance(string1, str):\n",
    "            return string1\n",
    "    else:\n",
    "        return pd.NA"
   ]
  },
  {
   "cell_type": "code",
   "execution_count": 170,
   "metadata": {},
   "outputs": [],
   "source": [
    "religions = ['christianity', 'islam', 'judaism', 'buddhism', 'hinduism', 'agnosticism', 'atheism', 'other']\n",
    "profiles['religious_preference'] = profiles.religion.apply(lambda x: replacer(religions, x))\n",
    "\n",
    "\n",
    "sentiment = ['laughing about it', 'not too serious about it', 'somewhat serious about it', 'very serious about it']\n",
    "profiles['religious_sentiment'] = profiles.religion.apply(lambda x: replacer(sentiment, x, 'no opinion'))\n",
    "\n",
    "profiles.drop(columns = ['religion'], inplace = True)"
   ]
  },
  {
   "cell_type": "code",
   "execution_count": 171,
   "metadata": {},
   "outputs": [
    {
     "data": {
      "text/html": [
       "<div>\n",
       "<style scoped>\n",
       "    .dataframe tbody tr th:only-of-type {\n",
       "        vertical-align: middle;\n",
       "    }\n",
       "\n",
       "    .dataframe tbody tr th {\n",
       "        vertical-align: top;\n",
       "    }\n",
       "\n",
       "    .dataframe thead th {\n",
       "        text-align: right;\n",
       "    }\n",
       "</style>\n",
       "<table border=\"1\" class=\"dataframe\">\n",
       "  <thead>\n",
       "    <tr style=\"text-align: right;\">\n",
       "      <th></th>\n",
       "      <th>religious_preference</th>\n",
       "      <th>religious_sentiment</th>\n",
       "    </tr>\n",
       "  </thead>\n",
       "  <tbody>\n",
       "    <tr>\n",
       "      <th>58549</th>\n",
       "      <td>None</td>\n",
       "      <td>no opinion</td>\n",
       "    </tr>\n",
       "    <tr>\n",
       "      <th>47532</th>\n",
       "      <td>None</td>\n",
       "      <td>no opinion</td>\n",
       "    </tr>\n",
       "    <tr>\n",
       "      <th>10441</th>\n",
       "      <td>atheism</td>\n",
       "      <td>laughing about it</td>\n",
       "    </tr>\n",
       "    <tr>\n",
       "      <th>15109</th>\n",
       "      <td>None</td>\n",
       "      <td>no opinion</td>\n",
       "    </tr>\n",
       "    <tr>\n",
       "      <th>37090</th>\n",
       "      <td>other</td>\n",
       "      <td>no opinion</td>\n",
       "    </tr>\n",
       "    <tr>\n",
       "      <th>4581</th>\n",
       "      <td>None</td>\n",
       "      <td>no opinion</td>\n",
       "    </tr>\n",
       "    <tr>\n",
       "      <th>33931</th>\n",
       "      <td>None</td>\n",
       "      <td>no opinion</td>\n",
       "    </tr>\n",
       "    <tr>\n",
       "      <th>43786</th>\n",
       "      <td>judaism</td>\n",
       "      <td>no opinion</td>\n",
       "    </tr>\n",
       "    <tr>\n",
       "      <th>17051</th>\n",
       "      <td>other</td>\n",
       "      <td>laughing about it</td>\n",
       "    </tr>\n",
       "    <tr>\n",
       "      <th>53283</th>\n",
       "      <td>None</td>\n",
       "      <td>not too serious about it</td>\n",
       "    </tr>\n",
       "  </tbody>\n",
       "</table>\n",
       "</div>"
      ],
      "text/plain": [
       "      religious_preference       religious_sentiment\n",
       "58549                 None                no opinion\n",
       "47532                 None                no opinion\n",
       "10441              atheism         laughing about it\n",
       "15109                 None                no opinion\n",
       "37090                other                no opinion\n",
       "4581                  None                no opinion\n",
       "33931                 None                no opinion\n",
       "43786              judaism                no opinion\n",
       "17051                other         laughing about it\n",
       "53283                 None  not too serious about it"
      ]
     },
     "execution_count": 171,
     "metadata": {},
     "output_type": "execute_result"
    }
   ],
   "source": [
    "profiles[[\"religious_preference\", \"religious_sentiment\"]].head(10)"
   ]
  },
  {
   "cell_type": "markdown",
   "metadata": {},
   "source": [
    "### Simplifying `sign`"
   ]
  },
  {
   "cell_type": "code",
   "execution_count": 172,
   "metadata": {},
   "outputs": [
    {
     "data": {
      "text/plain": [
       "sign\n",
       "nan                                              9912\n",
       "scorpio and it&rsquo;s fun to think about        1596\n",
       "gemini and it&rsquo;s fun to think about         1596\n",
       "leo and it&rsquo;s fun to think about            1522\n",
       "libra and it&rsquo;s fun to think about          1486\n",
       "taurus and it&rsquo;s fun to think about         1465\n",
       "sagittarius and it&rsquo;s fun to think about    1440\n",
       "aries and it&rsquo;s fun to think about          1431\n",
       "virgo and it&rsquo;s fun to think about          1422\n",
       "cancer and it&rsquo;s fun to think about         1421\n",
       "pisces and it&rsquo;s fun to think about         1420\n",
       "virgo but it doesn&rsquo;t matter                1361\n",
       "aquarius and it&rsquo;s fun to think about       1350\n",
       "cancer but it doesn&rsquo;t matter               1316\n",
       "taurus but it doesn&rsquo;t matter               1308\n",
       "leo but it doesn&rsquo;t matter                  1299\n",
       "gemini but it doesn&rsquo;t matter               1294\n",
       "aquarius but it doesn&rsquo;t matter             1273\n",
       "libra but it doesn&rsquo;t matter                1262\n",
       "capricorn and it&rsquo;s fun to think about      1254\n",
       "sagittarius but it doesn&rsquo;t matter          1236\n",
       "aries but it doesn&rsquo;t matter                1226\n",
       "capricorn but it doesn&rsquo;t matter            1193\n",
       "pisces but it doesn&rsquo;t matter               1182\n",
       "scorpio but it doesn&rsquo;t matter              1151\n",
       "leo                                              1049\n",
       "libra                                             997\n",
       "cancer                                            991\n",
       "virgo                                             938\n",
       "scorpio                                           915\n",
       "taurus                                            912\n",
       "aries                                             896\n",
       "gemini                                            892\n",
       "pisces                                            885\n",
       "aquarius                                          866\n",
       "sagittarius                                       838\n",
       "capricorn                                         749\n",
       "scorpio and it matters a lot                       71\n",
       "leo and it matters a lot                           62\n",
       "aquarius and it matters a lot                      60\n",
       "gemini and it matters a lot                        58\n",
       "cancer and it matters a lot                        57\n",
       "pisces and it matters a lot                        56\n",
       "sagittarius and it matters a lot                   44\n",
       "libra and it matters a lot                         44\n",
       "taurus and it matters a lot                        41\n",
       "aries and it matters a lot                         40\n",
       "capricorn and it matters a lot                     38\n",
       "virgo and it matters a lot                         36\n",
       "Name: count, dtype: int64"
      ]
     },
     "execution_count": 172,
     "metadata": {},
     "output_type": "execute_result"
    }
   ],
   "source": [
    "profiles.sign.value_counts(dropna = False)"
   ]
  },
  {
   "cell_type": "markdown",
   "metadata": {},
   "source": [
    "Sign is very similar to religion and can be handled similarly. Only we seem to have a problem with character encoding. That can be easily fixed however."
   ]
  },
  {
   "cell_type": "code",
   "execution_count": 173,
   "metadata": {},
   "outputs": [],
   "source": [
    "profiles.sign = profiles.sign.apply(lambda x: x.replace('&rsquo;', \"\\'\") if isinstance(x, str) else x)\n",
    "star_signs = ['gemini', 'scorpio', 'leo', 'virgo', 'cancer', 'taurus', 'libra', 'aries', 'aquarius', 'pisces', 'capricorn', 'sagittarius']\n",
    "profiles['star_sign'] = profiles.sign.apply(lambda x: replacer(star_signs, x))\n",
    "\n",
    "sign_sentiment = ['it\\'s fun to think about', 'it doesn\\'t matter', 'it matters a lot']\n",
    "profiles['sign_sentiment'] = profiles.sign.apply(lambda x: replacer(sign_sentiment, x, 'no opinion'))\n",
    "\n",
    "profiles.drop(columns = ['sign'], inplace = True)"
   ]
  },
  {
   "cell_type": "code",
   "execution_count": 174,
   "metadata": {},
   "outputs": [
    {
     "data": {
      "text/html": [
       "<div>\n",
       "<style scoped>\n",
       "    .dataframe tbody tr th:only-of-type {\n",
       "        vertical-align: middle;\n",
       "    }\n",
       "\n",
       "    .dataframe tbody tr th {\n",
       "        vertical-align: top;\n",
       "    }\n",
       "\n",
       "    .dataframe thead th {\n",
       "        text-align: right;\n",
       "    }\n",
       "</style>\n",
       "<table border=\"1\" class=\"dataframe\">\n",
       "  <thead>\n",
       "    <tr style=\"text-align: right;\">\n",
       "      <th></th>\n",
       "      <th>star_sign</th>\n",
       "      <th>sign_sentiment</th>\n",
       "    </tr>\n",
       "  </thead>\n",
       "  <tbody>\n",
       "    <tr>\n",
       "      <th>58549</th>\n",
       "      <td>libra</td>\n",
       "      <td>no opinion</td>\n",
       "    </tr>\n",
       "    <tr>\n",
       "      <th>47532</th>\n",
       "      <td>pisces</td>\n",
       "      <td>it's fun to think about</td>\n",
       "    </tr>\n",
       "    <tr>\n",
       "      <th>10441</th>\n",
       "      <td>cancer</td>\n",
       "      <td>it's fun to think about</td>\n",
       "    </tr>\n",
       "    <tr>\n",
       "      <th>15109</th>\n",
       "      <td>None</td>\n",
       "      <td>no opinion</td>\n",
       "    </tr>\n",
       "    <tr>\n",
       "      <th>37090</th>\n",
       "      <td>aquarius</td>\n",
       "      <td>it doesn't matter</td>\n",
       "    </tr>\n",
       "    <tr>\n",
       "      <th>4581</th>\n",
       "      <td>libra</td>\n",
       "      <td>it doesn't matter</td>\n",
       "    </tr>\n",
       "    <tr>\n",
       "      <th>33931</th>\n",
       "      <td>leo</td>\n",
       "      <td>it doesn't matter</td>\n",
       "    </tr>\n",
       "    <tr>\n",
       "      <th>43786</th>\n",
       "      <td>None</td>\n",
       "      <td>no opinion</td>\n",
       "    </tr>\n",
       "    <tr>\n",
       "      <th>17051</th>\n",
       "      <td>pisces</td>\n",
       "      <td>it's fun to think about</td>\n",
       "    </tr>\n",
       "    <tr>\n",
       "      <th>53283</th>\n",
       "      <td>scorpio</td>\n",
       "      <td>it's fun to think about</td>\n",
       "    </tr>\n",
       "  </tbody>\n",
       "</table>\n",
       "</div>"
      ],
      "text/plain": [
       "      star_sign           sign_sentiment\n",
       "58549     libra               no opinion\n",
       "47532    pisces  it's fun to think about\n",
       "10441    cancer  it's fun to think about\n",
       "15109      None               no opinion\n",
       "37090  aquarius        it doesn't matter\n",
       "4581      libra        it doesn't matter\n",
       "33931       leo        it doesn't matter\n",
       "43786      None               no opinion\n",
       "17051    pisces  it's fun to think about\n",
       "53283   scorpio  it's fun to think about"
      ]
     },
     "execution_count": 174,
     "metadata": {},
     "output_type": "execute_result"
    }
   ],
   "source": [
    "profiles[['star_sign', 'sign_sentiment']].head(10)"
   ]
  },
  {
   "cell_type": "markdown",
   "metadata": {},
   "source": [
    "### Simplifying `speaks`"
   ]
  },
  {
   "cell_type": "code",
   "execution_count": 175,
   "metadata": {},
   "outputs": [
    {
     "data": {
      "text/plain": [
       "58549    english (fluently), spanish (okay)\n",
       "47532                      english, spanish\n",
       "10441                               english\n",
       "15109                               english\n",
       "37090                    english (fluently)\n",
       "4581     english (fluently), spanish (okay)\n",
       "33931                               english\n",
       "43786                      english, spanish\n",
       "17051                    english (fluently)\n",
       "53283                               english\n",
       "Name: speaks, dtype: object"
      ]
     },
     "execution_count": 175,
     "metadata": {},
     "output_type": "execute_result"
    }
   ],
   "source": [
    "profiles.speaks.head(10)"
   ]
  },
  {
   "cell_type": "code",
   "execution_count": 176,
   "metadata": {},
   "outputs": [
    {
     "data": {
      "text/plain": [
       "speaks\n",
       "english                                                                                             19616\n",
       "english (fluently)                                                                                   5967\n",
       "english (fluently), spanish (poorly)                                                                 1838\n",
       "english (fluently), spanish (okay)                                                                   1720\n",
       "english (fluently), spanish (fluently)                                                               1181\n",
       "                                                                                                    ...  \n",
       "english (fluently), german (poorly), afrikaans (poorly)                                                 1\n",
       "english (fluently), esperanto (okay), tagalog (poorly), ancient greek (fluently), rotuman (okay)        1\n",
       "english, french (poorly), japanese (poorly), yiddish (poorly)                                           1\n",
       "english, spanish, indonesian (okay)                                                                     1\n",
       "english (fluently), spanish (poorly), ancient greek (okay)                                              1\n",
       "Name: count, Length: 7078, dtype: int64"
      ]
     },
     "execution_count": 176,
     "metadata": {},
     "output_type": "execute_result"
    }
   ],
   "source": [
    "profiles.speaks.value_counts(dropna = False)"
   ]
  },
  {
   "cell_type": "markdown",
   "metadata": {},
   "source": [
    "For speaks we are going to try something different, while we could list all the different languages I feel capturing a person's english speaking ability would be a much more interesting attribute to have in our data. let's just check how many of our subjects actually speak english."
   ]
  },
  {
   "cell_type": "code",
   "execution_count": 177,
   "metadata": {},
   "outputs": [
    {
     "name": "stdout",
     "output_type": "stream",
     "text": [
      "53951\n"
     ]
    },
    {
     "data": {
      "text/plain": [
       "53905"
      ]
     },
     "execution_count": 177,
     "metadata": {},
     "output_type": "execute_result"
    }
   ],
   "source": [
    "print(len(profiles['speaks']))\n",
    "speakeasy = profiles['speaks'].str.contains(r'english', case = False, na = False).sum()\n",
    "int(speakeasy)"
   ]
  },
  {
   "cell_type": "markdown",
   "metadata": {},
   "source": [
    "Initially it appears that 50 of our subjects don't speak any english, but with a little tweaking of the above function you can find that these subjects just have No language data. Which for now isn't that important, its just something to be aware of.\n",
    "\n",
    "Now lets try and isolate the english part of each subjects language ability (if we have it of course)."
   ]
  },
  {
   "cell_type": "code",
   "execution_count": 178,
   "metadata": {},
   "outputs": [
    {
     "data": {
      "text/plain": [
       "english\n",
       "[english]                                                                                                   26856\n",
       "[english (fluently)]                                                                                        25218\n",
       "[english (okay)]                                                                                              946\n",
       "[english (poorly)]                                                                                            531\n",
       "[english,  english]                                                                                           104\n",
       "[english,  english (fluently)]                                                                                103\n",
       "[]                                                                                                             46\n",
       "[english (fluently),  english]                                                                                 29\n",
       "[english (fluently),  english (fluently)]                                                                      27\n",
       "[english (fluently),  english (poorly)]                                                                        20\n",
       "[english,  english (okay)]                                                                                     13\n",
       "[english (fluently),  english (okay),  english (poorly)]                                                       11\n",
       "[english (fluently),  english (okay)]                                                                           6\n",
       "[english,  english (poorly)]                                                                                    5\n",
       "[english (okay),  english (okay)]                                                                               5\n",
       "[english (fluently),  english (fluently),  english (fluently)]                                                  4\n",
       "[english (fluently),  english (fluently),  english (fluently),  english (fluently),  english]                   2\n",
       "[english (fluently),  english (fluently),  english (fluently),  english (fluently),  english (fluently)]        2\n",
       "[ english]                                                                                                      2\n",
       "[english (poorly),  english (okay),  english (fluently)]                                                        2\n",
       "[english (fluently),  english (poorly),  english (okay)]                                                        2\n",
       "[english (poorly),  english (okay),  english (fluently),  english,  english]                                    1\n",
       "[english (okay),  english (fluently),  english (poorly)]                                                        1\n",
       "[english,  english,  english]                                                                                   1\n",
       "[english (okay),  english]                                                                                      1\n",
       "[english (fluently),  english (fluently),  english (okay)]                                                      1\n",
       "[ english (fluently)]                                                                                           1\n",
       "[english (fluently),  english (okay),  english (poorly),  english (fluently),  english (okay)]                  1\n",
       "[english (okay),  english (fluently)]                                                                           1\n",
       "[english,  english (fluently),  english (okay),  english (poorly),  english]                                    1\n",
       "[english (fluently),  english (poorly),  english (poorly)]                                                      1\n",
       "[english (poorly),  english (okay),  english (poorly)]                                                          1\n",
       "[english (okay),  english (poorly)]                                                                             1\n",
       "[english (fluently),  english (fluently),  english (okay),  english (poorly)]                                   1\n",
       "[english (fluently),  english (okay),  english (poorly),  english (fluently),  english (poorly)]                1\n",
       "[english (okay),  english (okay),  english (okay)]                                                              1\n",
       "[english,  english (fluently),  english (okay),  english (poorly)]                                              1\n",
       "[english (poorly),  english (poorly),  english (poorly),  english (poorly),  english (poorly)]                  1\n",
       "Name: count, dtype: int64"
      ]
     },
     "execution_count": 178,
     "metadata": {},
     "output_type": "execute_result"
    }
   ],
   "source": [
    "profiles[\"english\"] = profiles.speaks.apply(lambda x: x.lower().split(\",\") if isinstance(x, str) else x) #turn each string into a list (luckily are languages are already comma-seperated)\n",
    "profiles['english'] = profiles.english.apply(lambda x: [entry for entry in x if 'english' in entry.lower()] if isinstance(x, list) else None)\n",
    "profiles['english'].value_counts(dropna = True)"
   ]
  },
  {
   "cell_type": "markdown",
   "metadata": {},
   "source": [
    "Seems like some of our entries put multiple levels of english in their languages. Let's fix that."
   ]
  },
  {
   "cell_type": "code",
   "execution_count": 179,
   "metadata": {},
   "outputs": [
    {
     "ename": "IndexError",
     "evalue": "list index out of range",
     "output_type": "error",
     "traceback": [
      "\u001b[1;31m---------------------------------------------------------------------------\u001b[0m",
      "\u001b[1;31mIndexError\u001b[0m                                Traceback (most recent call last)",
      "Cell \u001b[1;32mIn[179], line 13\u001b[0m\n\u001b[0;32m     10\u001b[0m         \u001b[38;5;28;01mreturn\u001b[39;00m current\n\u001b[0;32m     12\u001b[0m profiles[\u001b[38;5;124m'\u001b[39m\u001b[38;5;124menglish\u001b[39m\u001b[38;5;124m'\u001b[39m] \u001b[38;5;241m=\u001b[39m profiles\u001b[38;5;241m.\u001b[39menglish\u001b[38;5;241m.\u001b[39mapply(\u001b[38;5;28;01mlambda\u001b[39;00m x: [z\u001b[38;5;241m.\u001b[39mreplace(\u001b[38;5;124m\"\u001b[39m\u001b[38;5;124m \u001b[39m\u001b[38;5;124m\"\u001b[39m, \u001b[38;5;124m\"\u001b[39m\u001b[38;5;124m\"\u001b[39m) \u001b[38;5;28;01mfor\u001b[39;00m z \u001b[38;5;129;01min\u001b[39;00m x] \u001b[38;5;28;01mif\u001b[39;00m \u001b[38;5;28misinstance\u001b[39m(x, \u001b[38;5;28mlist\u001b[39m) \u001b[38;5;28;01melse\u001b[39;00m \u001b[38;5;28;01mNone\u001b[39;00m)\n\u001b[1;32m---> 13\u001b[0m profiles[\u001b[38;5;124m'\u001b[39m\u001b[38;5;124menglish\u001b[39m\u001b[38;5;124m'\u001b[39m] \u001b[38;5;241m=\u001b[39m \u001b[43mprofiles\u001b[49m\u001b[38;5;241;43m.\u001b[39;49m\u001b[43menglish\u001b[49m\u001b[38;5;241;43m.\u001b[39;49m\u001b[43mapply\u001b[49m\u001b[43m(\u001b[49m\u001b[38;5;28;43;01mlambda\u001b[39;49;00m\u001b[43m \u001b[49m\u001b[43mx\u001b[49m\u001b[43m:\u001b[49m\u001b[43m \u001b[49m\u001b[43mfix_english\u001b[49m\u001b[43m(\u001b[49m\u001b[43mx\u001b[49m\u001b[43m,\u001b[49m\u001b[43m \u001b[49m\u001b[43menglish_scale\u001b[49m\u001b[43m)\u001b[49m\u001b[43m \u001b[49m\u001b[38;5;28;43;01mif\u001b[39;49;00m\u001b[43m \u001b[49m\u001b[38;5;28;43misinstance\u001b[39;49m\u001b[43m(\u001b[49m\u001b[43mx\u001b[49m\u001b[43m,\u001b[49m\u001b[43m \u001b[49m\u001b[38;5;28;43mlist\u001b[39;49m\u001b[43m)\u001b[49m\u001b[43m \u001b[49m\u001b[38;5;28;43;01melse\u001b[39;49;00m\u001b[43m \u001b[49m\u001b[38;5;28;43;01mNone\u001b[39;49;00m\u001b[43m)\u001b[49m\n\u001b[0;32m     14\u001b[0m profiles[\u001b[38;5;124m'\u001b[39m\u001b[38;5;124menglish\u001b[39m\u001b[38;5;124m'\u001b[39m]\u001b[38;5;241m.\u001b[39mvalue_counts(dropna \u001b[38;5;241m=\u001b[39m \u001b[38;5;28;01mTrue\u001b[39;00m)\n",
      "File \u001b[1;32mc:\\Users\\conor\\Desktop\\Coding\\Virtual_Environments\\envoid\\Lib\\site-packages\\pandas\\core\\series.py:4924\u001b[0m, in \u001b[0;36mSeries.apply\u001b[1;34m(self, func, convert_dtype, args, by_row, **kwargs)\u001b[0m\n\u001b[0;32m   4789\u001b[0m \u001b[38;5;28;01mdef\u001b[39;00m\u001b[38;5;250m \u001b[39m\u001b[38;5;21mapply\u001b[39m(\n\u001b[0;32m   4790\u001b[0m     \u001b[38;5;28mself\u001b[39m,\n\u001b[0;32m   4791\u001b[0m     func: AggFuncType,\n\u001b[1;32m   (...)\u001b[0m\n\u001b[0;32m   4796\u001b[0m     \u001b[38;5;241m*\u001b[39m\u001b[38;5;241m*\u001b[39mkwargs,\n\u001b[0;32m   4797\u001b[0m ) \u001b[38;5;241m-\u001b[39m\u001b[38;5;241m>\u001b[39m DataFrame \u001b[38;5;241m|\u001b[39m Series:\n\u001b[0;32m   4798\u001b[0m \u001b[38;5;250m    \u001b[39m\u001b[38;5;124;03m\"\"\"\u001b[39;00m\n\u001b[0;32m   4799\u001b[0m \u001b[38;5;124;03m    Invoke function on values of Series.\u001b[39;00m\n\u001b[0;32m   4800\u001b[0m \n\u001b[1;32m   (...)\u001b[0m\n\u001b[0;32m   4915\u001b[0m \u001b[38;5;124;03m    dtype: float64\u001b[39;00m\n\u001b[0;32m   4916\u001b[0m \u001b[38;5;124;03m    \"\"\"\u001b[39;00m\n\u001b[0;32m   4917\u001b[0m     \u001b[38;5;28;01mreturn\u001b[39;00m \u001b[43mSeriesApply\u001b[49m\u001b[43m(\u001b[49m\n\u001b[0;32m   4918\u001b[0m \u001b[43m        \u001b[49m\u001b[38;5;28;43mself\u001b[39;49m\u001b[43m,\u001b[49m\n\u001b[0;32m   4919\u001b[0m \u001b[43m        \u001b[49m\u001b[43mfunc\u001b[49m\u001b[43m,\u001b[49m\n\u001b[0;32m   4920\u001b[0m \u001b[43m        \u001b[49m\u001b[43mconvert_dtype\u001b[49m\u001b[38;5;241;43m=\u001b[39;49m\u001b[43mconvert_dtype\u001b[49m\u001b[43m,\u001b[49m\n\u001b[0;32m   4921\u001b[0m \u001b[43m        \u001b[49m\u001b[43mby_row\u001b[49m\u001b[38;5;241;43m=\u001b[39;49m\u001b[43mby_row\u001b[49m\u001b[43m,\u001b[49m\n\u001b[0;32m   4922\u001b[0m \u001b[43m        \u001b[49m\u001b[43margs\u001b[49m\u001b[38;5;241;43m=\u001b[39;49m\u001b[43margs\u001b[49m\u001b[43m,\u001b[49m\n\u001b[0;32m   4923\u001b[0m \u001b[43m        \u001b[49m\u001b[43mkwargs\u001b[49m\u001b[38;5;241;43m=\u001b[39;49m\u001b[43mkwargs\u001b[49m\u001b[43m,\u001b[49m\n\u001b[1;32m-> 4924\u001b[0m \u001b[43m    \u001b[49m\u001b[43m)\u001b[49m\u001b[38;5;241;43m.\u001b[39;49m\u001b[43mapply\u001b[49m\u001b[43m(\u001b[49m\u001b[43m)\u001b[49m\n",
      "File \u001b[1;32mc:\\Users\\conor\\Desktop\\Coding\\Virtual_Environments\\envoid\\Lib\\site-packages\\pandas\\core\\apply.py:1427\u001b[0m, in \u001b[0;36mSeriesApply.apply\u001b[1;34m(self)\u001b[0m\n\u001b[0;32m   1424\u001b[0m     \u001b[38;5;28;01mreturn\u001b[39;00m \u001b[38;5;28mself\u001b[39m\u001b[38;5;241m.\u001b[39mapply_compat()\n\u001b[0;32m   1426\u001b[0m \u001b[38;5;66;03m# self.func is Callable\u001b[39;00m\n\u001b[1;32m-> 1427\u001b[0m \u001b[38;5;28;01mreturn\u001b[39;00m \u001b[38;5;28;43mself\u001b[39;49m\u001b[38;5;241;43m.\u001b[39;49m\u001b[43mapply_standard\u001b[49m\u001b[43m(\u001b[49m\u001b[43m)\u001b[49m\n",
      "File \u001b[1;32mc:\\Users\\conor\\Desktop\\Coding\\Virtual_Environments\\envoid\\Lib\\site-packages\\pandas\\core\\apply.py:1507\u001b[0m, in \u001b[0;36mSeriesApply.apply_standard\u001b[1;34m(self)\u001b[0m\n\u001b[0;32m   1501\u001b[0m \u001b[38;5;66;03m# row-wise access\u001b[39;00m\n\u001b[0;32m   1502\u001b[0m \u001b[38;5;66;03m# apply doesn't have a `na_action` keyword and for backward compat reasons\u001b[39;00m\n\u001b[0;32m   1503\u001b[0m \u001b[38;5;66;03m# we need to give `na_action=\"ignore\"` for categorical data.\u001b[39;00m\n\u001b[0;32m   1504\u001b[0m \u001b[38;5;66;03m# TODO: remove the `na_action=\"ignore\"` when that default has been changed in\u001b[39;00m\n\u001b[0;32m   1505\u001b[0m \u001b[38;5;66;03m#  Categorical (GH51645).\u001b[39;00m\n\u001b[0;32m   1506\u001b[0m action \u001b[38;5;241m=\u001b[39m \u001b[38;5;124m\"\u001b[39m\u001b[38;5;124mignore\u001b[39m\u001b[38;5;124m\"\u001b[39m \u001b[38;5;28;01mif\u001b[39;00m \u001b[38;5;28misinstance\u001b[39m(obj\u001b[38;5;241m.\u001b[39mdtype, CategoricalDtype) \u001b[38;5;28;01melse\u001b[39;00m \u001b[38;5;28;01mNone\u001b[39;00m\n\u001b[1;32m-> 1507\u001b[0m mapped \u001b[38;5;241m=\u001b[39m \u001b[43mobj\u001b[49m\u001b[38;5;241;43m.\u001b[39;49m\u001b[43m_map_values\u001b[49m\u001b[43m(\u001b[49m\n\u001b[0;32m   1508\u001b[0m \u001b[43m    \u001b[49m\u001b[43mmapper\u001b[49m\u001b[38;5;241;43m=\u001b[39;49m\u001b[43mcurried\u001b[49m\u001b[43m,\u001b[49m\u001b[43m \u001b[49m\u001b[43mna_action\u001b[49m\u001b[38;5;241;43m=\u001b[39;49m\u001b[43maction\u001b[49m\u001b[43m,\u001b[49m\u001b[43m \u001b[49m\u001b[43mconvert\u001b[49m\u001b[38;5;241;43m=\u001b[39;49m\u001b[38;5;28;43mself\u001b[39;49m\u001b[38;5;241;43m.\u001b[39;49m\u001b[43mconvert_dtype\u001b[49m\n\u001b[0;32m   1509\u001b[0m \u001b[43m\u001b[49m\u001b[43m)\u001b[49m\n\u001b[0;32m   1511\u001b[0m \u001b[38;5;28;01mif\u001b[39;00m \u001b[38;5;28mlen\u001b[39m(mapped) \u001b[38;5;129;01mand\u001b[39;00m \u001b[38;5;28misinstance\u001b[39m(mapped[\u001b[38;5;241m0\u001b[39m], ABCSeries):\n\u001b[0;32m   1512\u001b[0m     \u001b[38;5;66;03m# GH#43986 Need to do list(mapped) in order to get treated as nested\u001b[39;00m\n\u001b[0;32m   1513\u001b[0m     \u001b[38;5;66;03m#  See also GH#25959 regarding EA support\u001b[39;00m\n\u001b[0;32m   1514\u001b[0m     \u001b[38;5;28;01mreturn\u001b[39;00m obj\u001b[38;5;241m.\u001b[39m_constructor_expanddim(\u001b[38;5;28mlist\u001b[39m(mapped), index\u001b[38;5;241m=\u001b[39mobj\u001b[38;5;241m.\u001b[39mindex)\n",
      "File \u001b[1;32mc:\\Users\\conor\\Desktop\\Coding\\Virtual_Environments\\envoid\\Lib\\site-packages\\pandas\\core\\base.py:921\u001b[0m, in \u001b[0;36mIndexOpsMixin._map_values\u001b[1;34m(self, mapper, na_action, convert)\u001b[0m\n\u001b[0;32m    918\u001b[0m \u001b[38;5;28;01mif\u001b[39;00m \u001b[38;5;28misinstance\u001b[39m(arr, ExtensionArray):\n\u001b[0;32m    919\u001b[0m     \u001b[38;5;28;01mreturn\u001b[39;00m arr\u001b[38;5;241m.\u001b[39mmap(mapper, na_action\u001b[38;5;241m=\u001b[39mna_action)\n\u001b[1;32m--> 921\u001b[0m \u001b[38;5;28;01mreturn\u001b[39;00m \u001b[43malgorithms\u001b[49m\u001b[38;5;241;43m.\u001b[39;49m\u001b[43mmap_array\u001b[49m\u001b[43m(\u001b[49m\u001b[43marr\u001b[49m\u001b[43m,\u001b[49m\u001b[43m \u001b[49m\u001b[43mmapper\u001b[49m\u001b[43m,\u001b[49m\u001b[43m \u001b[49m\u001b[43mna_action\u001b[49m\u001b[38;5;241;43m=\u001b[39;49m\u001b[43mna_action\u001b[49m\u001b[43m,\u001b[49m\u001b[43m \u001b[49m\u001b[43mconvert\u001b[49m\u001b[38;5;241;43m=\u001b[39;49m\u001b[43mconvert\u001b[49m\u001b[43m)\u001b[49m\n",
      "File \u001b[1;32mc:\\Users\\conor\\Desktop\\Coding\\Virtual_Environments\\envoid\\Lib\\site-packages\\pandas\\core\\algorithms.py:1743\u001b[0m, in \u001b[0;36mmap_array\u001b[1;34m(arr, mapper, na_action, convert)\u001b[0m\n\u001b[0;32m   1741\u001b[0m values \u001b[38;5;241m=\u001b[39m arr\u001b[38;5;241m.\u001b[39mastype(\u001b[38;5;28mobject\u001b[39m, copy\u001b[38;5;241m=\u001b[39m\u001b[38;5;28;01mFalse\u001b[39;00m)\n\u001b[0;32m   1742\u001b[0m \u001b[38;5;28;01mif\u001b[39;00m na_action \u001b[38;5;129;01mis\u001b[39;00m \u001b[38;5;28;01mNone\u001b[39;00m:\n\u001b[1;32m-> 1743\u001b[0m     \u001b[38;5;28;01mreturn\u001b[39;00m \u001b[43mlib\u001b[49m\u001b[38;5;241;43m.\u001b[39;49m\u001b[43mmap_infer\u001b[49m\u001b[43m(\u001b[49m\u001b[43mvalues\u001b[49m\u001b[43m,\u001b[49m\u001b[43m \u001b[49m\u001b[43mmapper\u001b[49m\u001b[43m,\u001b[49m\u001b[43m \u001b[49m\u001b[43mconvert\u001b[49m\u001b[38;5;241;43m=\u001b[39;49m\u001b[43mconvert\u001b[49m\u001b[43m)\u001b[49m\n\u001b[0;32m   1744\u001b[0m \u001b[38;5;28;01melse\u001b[39;00m:\n\u001b[0;32m   1745\u001b[0m     \u001b[38;5;28;01mreturn\u001b[39;00m lib\u001b[38;5;241m.\u001b[39mmap_infer_mask(\n\u001b[0;32m   1746\u001b[0m         values, mapper, mask\u001b[38;5;241m=\u001b[39misna(values)\u001b[38;5;241m.\u001b[39mview(np\u001b[38;5;241m.\u001b[39muint8), convert\u001b[38;5;241m=\u001b[39mconvert\n\u001b[0;32m   1747\u001b[0m     )\n",
      "File \u001b[1;32mlib.pyx:2972\u001b[0m, in \u001b[0;36mpandas._libs.lib.map_infer\u001b[1;34m()\u001b[0m\n",
      "Cell \u001b[1;32mIn[179], line 13\u001b[0m, in \u001b[0;36m<lambda>\u001b[1;34m(x)\u001b[0m\n\u001b[0;32m     10\u001b[0m         \u001b[38;5;28;01mreturn\u001b[39;00m current\n\u001b[0;32m     12\u001b[0m profiles[\u001b[38;5;124m'\u001b[39m\u001b[38;5;124menglish\u001b[39m\u001b[38;5;124m'\u001b[39m] \u001b[38;5;241m=\u001b[39m profiles\u001b[38;5;241m.\u001b[39menglish\u001b[38;5;241m.\u001b[39mapply(\u001b[38;5;28;01mlambda\u001b[39;00m x: [z\u001b[38;5;241m.\u001b[39mreplace(\u001b[38;5;124m\"\u001b[39m\u001b[38;5;124m \u001b[39m\u001b[38;5;124m\"\u001b[39m, \u001b[38;5;124m\"\u001b[39m\u001b[38;5;124m\"\u001b[39m) \u001b[38;5;28;01mfor\u001b[39;00m z \u001b[38;5;129;01min\u001b[39;00m x] \u001b[38;5;28;01mif\u001b[39;00m \u001b[38;5;28misinstance\u001b[39m(x, \u001b[38;5;28mlist\u001b[39m) \u001b[38;5;28;01melse\u001b[39;00m \u001b[38;5;28;01mNone\u001b[39;00m)\n\u001b[1;32m---> 13\u001b[0m profiles[\u001b[38;5;124m'\u001b[39m\u001b[38;5;124menglish\u001b[39m\u001b[38;5;124m'\u001b[39m] \u001b[38;5;241m=\u001b[39m profiles\u001b[38;5;241m.\u001b[39menglish\u001b[38;5;241m.\u001b[39mapply(\u001b[38;5;28;01mlambda\u001b[39;00m x: \u001b[43mfix_english\u001b[49m\u001b[43m(\u001b[49m\u001b[43mx\u001b[49m\u001b[43m,\u001b[49m\u001b[43m \u001b[49m\u001b[43menglish_scale\u001b[49m\u001b[43m)\u001b[49m \u001b[38;5;28;01mif\u001b[39;00m \u001b[38;5;28misinstance\u001b[39m(x, \u001b[38;5;28mlist\u001b[39m) \u001b[38;5;28;01melse\u001b[39;00m \u001b[38;5;28;01mNone\u001b[39;00m)\n\u001b[0;32m     14\u001b[0m profiles[\u001b[38;5;124m'\u001b[39m\u001b[38;5;124menglish\u001b[39m\u001b[38;5;124m'\u001b[39m]\u001b[38;5;241m.\u001b[39mvalue_counts(dropna \u001b[38;5;241m=\u001b[39m \u001b[38;5;28;01mTrue\u001b[39;00m)\n",
      "Cell \u001b[1;32mIn[179], line 3\u001b[0m, in \u001b[0;36mfix_english\u001b[1;34m(english_list, scale)\u001b[0m\n\u001b[0;32m      2\u001b[0m \u001b[38;5;28;01mdef\u001b[39;00m\u001b[38;5;250m \u001b[39m\u001b[38;5;21mfix_english\u001b[39m(english_list:\u001b[38;5;28mlist\u001b[39m, scale:\u001b[38;5;28mdict\u001b[39m):\n\u001b[1;32m----> 3\u001b[0m     current \u001b[38;5;241m=\u001b[39m \u001b[43menglish_list\u001b[49m\u001b[43m[\u001b[49m\u001b[38;5;241;43m0\u001b[39;49m\u001b[43m]\u001b[49m\n\u001b[0;32m      4\u001b[0m     \u001b[38;5;28;01mif\u001b[39;00m \u001b[38;5;28mlen\u001b[39m(english_list) \u001b[38;5;241m>\u001b[39m \u001b[38;5;241m1\u001b[39m:\n\u001b[0;32m      5\u001b[0m         \u001b[38;5;28;01mfor\u001b[39;00m i \u001b[38;5;129;01min\u001b[39;00m \u001b[38;5;28mrange\u001b[39m(\u001b[38;5;241m1\u001b[39m, \u001b[38;5;28mlen\u001b[39m(english_list)):\n",
      "\u001b[1;31mIndexError\u001b[0m: list index out of range"
     ]
    }
   ],
   "source": [
    "english_scale = {'english(fluently)': 1, 'english': 2, 'english(okay)': 3, 'english(poorly)': 4} # create a string to hold my personal ranking of english fluency to handle multiple english entries.\n",
    "def fix_english(english_list:list, scale:dict):\n",
    "    current = english_list[0]\n",
    "    if len(english_list) > 1:\n",
    "        for i in range(1, len(english_list)):\n",
    "            if english_scale[current] > english_scale[english_list[i]]:\n",
    "                current = english_list[i]\n",
    "        return current\n",
    "    else:\n",
    "        return current\n",
    "\n",
    "profiles['english'] = profiles.english.apply(lambda x: [z.replace(\" \", \"\") for z in x] if isinstance(x, list) else None)\n",
    "profiles['english'] = profiles.english.apply(lambda x: fix_english(x, english_scale) if isinstance(x, list) else None)\n",
    "profiles['english'].value_counts(dropna = True)"
   ]
  },
  {
   "cell_type": "markdown",
   "metadata": {},
   "source": [
    "And that's the english colomn sorted, looking a lot cleaner and a lot neater!"
   ]
  },
  {
   "cell_type": "markdown",
   "metadata": {},
   "source": [
    "### Simplifying `offspring`"
   ]
  },
  {
   "cell_type": "code",
   "execution_count": null,
   "metadata": {},
   "outputs": [
    {
     "data": {
      "text/plain": [
       "offspring\n",
       "doesn&rsquo;t have kids                                6851\n",
       "doesn&rsquo;t have kids, but might want them           3492\n",
       "doesn&rsquo;t have kids, but wants them                3202\n",
       "doesn&rsquo;t want kids                                2626\n",
       "has a kid                                              1697\n",
       "has kids                                               1683\n",
       "doesn&rsquo;t have kids, and doesn&rsquo;t want any     995\n",
       "has kids, but doesn&rsquo;t want more                   401\n",
       "has a kid, but doesn&rsquo;t want more                  242\n",
       "wants kids                                              207\n",
       "has a kid, and might want more                          206\n",
       "might want kids                                         168\n",
       "has kids, and might want more                            96\n",
       "has a kid, and wants more                                63\n",
       "has kids, and wants more                                 18\n",
       "Name: count, dtype: int64"
      ]
     },
     "execution_count": 110,
     "metadata": {},
     "output_type": "execute_result"
    }
   ],
   "source": [
    "profiles.offspring.value_counts()"
   ]
  },
  {
   "cell_type": "markdown",
   "metadata": {},
   "source": [
    "let's keep things simple with this one and just refine it to those who have kids and those who do not"
   ]
  },
  {
   "cell_type": "code",
   "execution_count": null,
   "metadata": {},
   "outputs": [],
   "source": [
    "def kids_handler(x):\n",
    "    if isinstance(x, str):\n",
    "        result = x.split(\" kid\")[0]\n",
    "        if result == \"has a\":\n",
    "            return \"has\"\n",
    "        else:\n",
    "            return \"doesn't have\"\n",
    "    else:\n",
    "        return pd.NA"
   ]
  },
  {
   "cell_type": "code",
   "execution_count": null,
   "metadata": {},
   "outputs": [
    {
     "data": {
      "text/plain": [
       "offspring\n",
       "<NA>            32004\n",
       "doesn't have    19739\n",
       "has              2208\n",
       "Name: count, dtype: int64"
      ]
     },
     "execution_count": 112,
     "metadata": {},
     "output_type": "execute_result"
    }
   ],
   "source": [
    "profiles.offspring = profiles.offspring.apply(lambda x: x.replace('&rsquo;', \"\\'\") if isinstance(x, str) else x)\n",
    "profiles['offspring'] = profiles.offspring.apply(lambda x: kids_handler(x))\n",
    "profiles.offspring.value_counts(dropna = False)"
   ]
  },
  {
   "cell_type": "markdown",
   "metadata": {},
   "source": [
    "### Simplifying `diet`"
   ]
  },
  {
   "cell_type": "code",
   "execution_count": null,
   "metadata": {},
   "outputs": [
    {
     "data": {
      "text/plain": [
       "diet\n",
       "mostly anything        14860\n",
       "anything                5552\n",
       "strictly anything       4609\n",
       "mostly vegetarian       3093\n",
       "mostly other             894\n",
       "strictly vegetarian      790\n",
       "vegetarian               603\n",
       "strictly other           401\n",
       "mostly vegan             319\n",
       "other                    303\n",
       "strictly vegan           207\n",
       "vegan                    126\n",
       "mostly kosher             79\n",
       "mostly halal              45\n",
       "strictly kosher           16\n",
       "strictly halal            15\n",
       "halal                     10\n",
       "kosher                    10\n",
       "Name: count, dtype: int64"
      ]
     },
     "execution_count": 113,
     "metadata": {},
     "output_type": "execute_result"
    }
   ],
   "source": [
    "profiles.diet.value_counts(dropna = True)"
   ]
  },
  {
   "cell_type": "code",
   "execution_count": null,
   "metadata": {},
   "outputs": [],
   "source": [
    "diets = ['vegetarian', 'vegan', 'anything', 'kosher', 'halal', 'other']\n",
    "profiles['diet'] = profiles['diet'].apply(lambda x: replacer(diets, x))"
   ]
  },
  {
   "cell_type": "code",
   "execution_count": null,
   "metadata": {},
   "outputs": [
    {
     "data": {
      "text/plain": [
       "diet\n",
       "anything      25021\n",
       "<NA>          22019\n",
       "vegetarian     4486\n",
       "other          1598\n",
       "vegan           652\n",
       "kosher          105\n",
       "halal            70\n",
       "Name: count, dtype: int64"
      ]
     },
     "execution_count": 115,
     "metadata": {},
     "output_type": "execute_result"
    }
   ],
   "source": [
    "profiles.diet.value_counts(dropna = False)"
   ]
  },
  {
   "cell_type": "markdown",
   "metadata": {},
   "source": [
    "## Handling Missing Values\n",
    "\n",
    "Next up is check which values have nulls and then handling them if they do in a way that is essentially up to my own discretion, however I try to use multiple techniques to handle nulls. \n",
    "\n",
    "If we check our columns we can see that theres a few rows that are 100% good to go on that front but beyond this we have a select few rows mainly on extraneous personal data that our users probably didn't want to or coulnd't be bothered to fill in.\n",
    "\n",
    "My Null Handling Methodology:\n",
    "\n",
    "1. Find how many values are missing + what percentage of the attribute is missing\n",
    "2. Try and find out why they might be missing\n",
    "3. Implement a solution to the nulls"
   ]
  },
  {
   "cell_type": "code",
   "execution_count": null,
   "metadata": {},
   "outputs": [
    {
     "data": {
      "text/plain": [
       "age                         0\n",
       "income                      0\n",
       "location                    0\n",
       "status                      0\n",
       "sex                         0\n",
       "orientation                 0\n",
       "last_online                 0\n",
       "height                      2\n",
       "speaks                     46\n",
       "english                    46\n",
       "drinks                   2673\n",
       "body_type                4760\n",
       "smokes                   4966\n",
       "ethnicity_2              5118\n",
       "ethnicity_1              5118\n",
       "education_status         5953\n",
       "education_level          5953\n",
       "job                      7381\n",
       "sign_sentiment           9912\n",
       "star_sign                9912\n",
       "drugs                   12676\n",
       "dogs                    17889\n",
       "cats                    17889\n",
       "religious_sentiment     18188\n",
       "diet                    22019\n",
       "religious_preference    22489\n",
       "offspring               32004\n",
       "dtype: int64"
      ]
     },
     "execution_count": 116,
     "metadata": {},
     "output_type": "execute_result"
    }
   ],
   "source": [
    "profiles.isna().sum().sort_values()"
   ]
  },
  {
   "cell_type": "code",
   "execution_count": null,
   "metadata": {},
   "outputs": [
    {
     "data": {
      "image/png": "[encoded data removed]",
      "text/plain": [
       "<Figure size 2500x1000 with 2 Axes>"
      ]
     },
     "metadata": {},
     "output_type": "display_data"
    },
    {
     "data": {
      "image/png": "[encoded data removed]",
      "text/plain": [
       "<Figure size 2000x1200 with 2 Axes>"
      ]
     },
     "metadata": {},
     "output_type": "display_data"
    }
   ],
   "source": [
    "import missingno as msno\n",
    "\n",
    "msno.matrix(profiles)\n",
    "plt.show()\n",
    "\n",
    "msno.heatmap(profiles)\n",
    "plt.show()"
   ]
  },
  {
   "cell_type": "markdown",
   "metadata": {},
   "source": [
    "### Removing High Null Rows"
   ]
  },
  {
   "cell_type": "code",
   "execution_count": null,
   "metadata": {},
   "outputs": [
    {
     "name": "stdout",
     "output_type": "stream",
     "text": [
      "DataFrame shape prior to removal:  (53951, 27)\n",
      "DataFrame shape post removal:  (52670, 27)\n"
     ]
    }
   ],
   "source": [
    "print(\"DataFrame shape prior to removal: \", profiles.shape)\n",
    "profiles['null_count'] = profiles.isna().sum(axis = 1)\n",
    "profiles = profiles[profiles['null_count'] < (0.4 * profiles.shape[1])]\n",
    "profiles.drop(columns = ['null_count'], inplace = True)\n",
    "print(\"DataFrame shape post removal: \", profiles.shape)"
   ]
  },
  {
   "cell_type": "markdown",
   "metadata": {},
   "source": [
    "### Handling `height` nulls\n",
    "\n",
    "`height` only has 2 null values so it's debatable if we should just get rid of them (it is only just 3 rows right?) This method is called **listwise deletion**."
   ]
  },
  {
   "cell_type": "code",
   "execution_count": null,
   "metadata": {},
   "outputs": [],
   "source": [
    "profiles = profiles[~profiles['height'].isna()]"
   ]
  },
  {
   "cell_type": "markdown",
   "metadata": {},
   "source": [
    "### Handling `english` Nulls\n",
    "\n",
    "`english` is also low enough to be handled by **listwise deletion**."
   ]
  },
  {
   "cell_type": "code",
   "execution_count": null,
   "metadata": {},
   "outputs": [],
   "source": [
    "profiles = profiles[~profiles['english'].isna()]"
   ]
  },
  {
   "cell_type": "markdown",
   "metadata": {},
   "source": [
    "### Handling `drinks` nulls"
   ]
  },
  {
   "cell_type": "code",
   "execution_count": null,
   "metadata": {},
   "outputs": [],
   "source": [
    "profiles['drinks'] = profiles['drinks'].fillna('rather not say')"
   ]
  },
  {
   "cell_type": "markdown",
   "metadata": {},
   "source": [
    "### Handling `body_type` nulls\n",
    "\n",
    "All nulls in the body type column are replaced with average. This is done as the majority of people would have the average body type anyway.\n",
    "\n",
    "Note: Think about this assumption more critically.\n",
    "\n",
    "Note: This is an assumption, put it in the assumptions section"
   ]
  },
  {
   "cell_type": "code",
   "execution_count": null,
   "metadata": {},
   "outputs": [],
   "source": [
    "profiles['body_type'] = profiles['body_type'].fillna('average')"
   ]
  },
  {
   "cell_type": "markdown",
   "metadata": {},
   "source": [
    "### Handling `smokes` nulls"
   ]
  },
  {
   "cell_type": "code",
   "execution_count": null,
   "metadata": {},
   "outputs": [],
   "source": [
    "profiles['smokes'] = profiles['smokes'].fillna('rather not say')"
   ]
  },
  {
   "cell_type": "markdown",
   "metadata": {},
   "source": [
    "### Handling `ethnicity_1` and `ethnicity_2` nulls"
   ]
  },
  {
   "cell_type": "code",
   "execution_count": null,
   "metadata": {},
   "outputs": [],
   "source": [
    "profiles['ethnicity_1'] = profiles['ethnicity_1'].fillna('unspecified')\n",
    "profiles['ethnicity_2'] = profiles['ethnicity_2'].fillna('unspecified')"
   ]
  },
  {
   "cell_type": "markdown",
   "metadata": {},
   "source": [
    "### Handling `education_status` and `education level` nulls"
   ]
  },
  {
   "cell_type": "code",
   "execution_count": null,
   "metadata": {},
   "outputs": [
    {
     "name": "stdout",
     "output_type": "stream",
     "text": [
      "education_level\n",
      "college/university    28205\n",
      "masters                9807\n",
      "<NA>                   4862\n",
      "two-year college       2679\n",
      "ph.d                   2138\n",
      "high school            1533\n",
      "space camp             1510\n",
      "law school             1278\n",
      "med school              621\n",
      "Name: count, dtype: int64\n"
     ]
    },
    {
     "data": {
      "text/plain": [
       "education_status\n",
       "graduated      36505\n",
       "working on      9381\n",
       "<NA>            4862\n",
       "dropped out     1885\n",
       "Name: count, dtype: int64"
      ]
     },
     "execution_count": 124,
     "metadata": {},
     "output_type": "execute_result"
    }
   ],
   "source": [
    "print(profiles.education_level.value_counts(dropna = False))\n",
    "profiles.education_status.value_counts(dropna = False)"
   ]
  },
  {
   "cell_type": "markdown",
   "metadata": {},
   "source": [
    "### Handling `job` nulls"
   ]
  },
  {
   "cell_type": "code",
   "execution_count": null,
   "metadata": {},
   "outputs": [],
   "source": [
    "profiles['job'] = profiles['job'].fillna('unspecified')"
   ]
  },
  {
   "cell_type": "markdown",
   "metadata": {},
   "source": [
    "### Handling `sign_sentiment` and `star_sign` nulls"
   ]
  },
  {
   "cell_type": "code",
   "execution_count": null,
   "metadata": {},
   "outputs": [],
   "source": [
    "profiles.drop(columns = ['sign_sentiment', 'star_sign'], inplace = True)"
   ]
  },
  {
   "cell_type": "markdown",
   "metadata": {},
   "source": [
    "### Handling `drugs` nulls"
   ]
  },
  {
   "cell_type": "code",
   "execution_count": null,
   "metadata": {},
   "outputs": [],
   "source": [
    "profiles['drugs'] = profiles['drugs'].fillna('unspecified')"
   ]
  },
  {
   "cell_type": "markdown",
   "metadata": {},
   "source": [
    "### Handling `dogs` and `cats`"
   ]
  },
  {
   "cell_type": "code",
   "execution_count": null,
   "metadata": {},
   "outputs": [],
   "source": [
    "profiles.drop(columns = ['dogs', 'cats'], inplace = True)"
   ]
  },
  {
   "cell_type": "markdown",
   "metadata": {},
   "source": [
    "### Handling `religous_sentiment` and `religous_preference` nulls"
   ]
  },
  {
   "cell_type": "code",
   "execution_count": null,
   "metadata": {},
   "outputs": [],
   "source": [
    "profiles['religious_sentiment'] = profiles['religious_sentiment'].fillna('not specified')\n",
    "profiles['religious_preference'] = profiles['religious_preference'].fillna('not specified')"
   ]
  },
  {
   "cell_type": "markdown",
   "metadata": {},
   "source": [
    "### Handling `diet` nulls"
   ]
  },
  {
   "cell_type": "code",
   "execution_count": null,
   "metadata": {},
   "outputs": [],
   "source": [
    "profiles['diet'] = profiles['diet'].fillna('missing')"
   ]
  },
  {
   "cell_type": "code",
   "execution_count": null,
   "metadata": {},
   "outputs": [],
   "source": [
    "profiles.drop(columns = ['offspring'], inplace = True)"
   ]
  },
  {
   "cell_type": "markdown",
   "metadata": {},
   "source": []
  },
  {
   "cell_type": "markdown",
   "metadata": {},
   "source": [
    "## Handling Outliers\n",
    "\n",
    "### Handling `age` outliers"
   ]
  },
  {
   "cell_type": "code",
   "execution_count": null,
   "metadata": {},
   "outputs": [
    {
     "data": {
      "text/plain": [
       "Series([], dtype: object)"
      ]
     },
     "execution_count": 132,
     "metadata": {},
     "output_type": "execute_result"
    }
   ],
   "source": [
    "profiles.dtypes[profiles.dtypes == pd.Int64Dtype()]"
   ]
  },
  {
   "cell_type": "code",
   "execution_count": null,
   "metadata": {},
   "outputs": [
    {
     "data": {
      "text/plain": [
       "count    52633.000000\n",
       "mean        32.363821\n",
       "std          9.446285\n",
       "min         18.000000\n",
       "25%         26.000000\n",
       "50%         30.000000\n",
       "75%         37.000000\n",
       "max        109.000000\n",
       "Name: age, dtype: float64"
      ]
     },
     "execution_count": 133,
     "metadata": {},
     "output_type": "execute_result"
    }
   ],
   "source": [
    "#age is numerical so describe should give us a good idea of the distribution of the values (we already know the age column contains no nulls)\n",
    "profiles['age'].describe()"
   ]
  },
  {
   "cell_type": "code",
   "execution_count": null,
   "metadata": {},
   "outputs": [
    {
     "data": {
      "text/plain": [
       "<Axes: xlabel='age'>"
      ]
     },
     "execution_count": 134,
     "metadata": {},
     "output_type": "execute_result"
    },
    {
     "data": {
      "image/png": "[encoded data removed]",
      "text/plain": [
       "<Figure size 640x480 with 1 Axes>"
      ]
     },
     "metadata": {},
     "output_type": "display_data"
    }
   ],
   "source": [
    "sns.boxplot(data = profiles, x = 'age')"
   ]
  },
  {
   "cell_type": "code",
   "execution_count": null,
   "metadata": {},
   "outputs": [
    {
     "data": {
      "text/plain": [
       "count    52632.000000\n",
       "mean        32.362365\n",
       "std          9.440466\n",
       "min         18.000000\n",
       "25%         26.000000\n",
       "50%         30.000000\n",
       "75%         37.000000\n",
       "max         69.000000\n",
       "Name: age, dtype: float64"
      ]
     },
     "execution_count": 135,
     "metadata": {},
     "output_type": "execute_result"
    }
   ],
   "source": [
    "#ages above 100 are removed\n",
    "profiles = profiles[profiles[\"age\"] <= 100]\n",
    "profiles['age'].describe() #resulting distribution looks a lot more realistic"
   ]
  },
  {
   "cell_type": "code",
   "execution_count": null,
   "metadata": {},
   "outputs": [
    {
     "data": {
      "text/plain": [
       "<Axes: xlabel='age'>"
      ]
     },
     "execution_count": 136,
     "metadata": {},
     "output_type": "execute_result"
    },
    {
     "data": {
      "image/png": "[encoded data removed]",
      "text/plain": [
       "<Figure size 640x480 with 1 Axes>"
      ]
     },
     "metadata": {},
     "output_type": "display_data"
    }
   ],
   "source": [
    "sns.boxplot(data = profiles, x = 'age')"
   ]
  },
  {
   "cell_type": "markdown",
   "metadata": {},
   "source": [
    "### Handling `height` Outliers\n",
    "\n",
    "Next is handling height, and taking a look immediately at the results of the `.describe()` method we can see  a big problem. our min height is someone who claims to be one inch tall. Moving on to the box plot we can see that a few people are also claiming to have a height smaller than the smallest person in the world Chandra Bahadur Dangi who is 21.5 inches tall. So let's immediately remove these jokers from our dataset."
   ]
  },
  {
   "cell_type": "code",
   "execution_count": null,
   "metadata": {},
   "outputs": [
    {
     "data": {
      "text/plain": [
       "count    52632.000000\n",
       "mean        68.289178\n",
       "std          3.987694\n",
       "min          1.000000\n",
       "25%         66.000000\n",
       "50%         68.000000\n",
       "75%         71.000000\n",
       "max         95.000000\n",
       "Name: height, dtype: float64"
      ]
     },
     "execution_count": 137,
     "metadata": {},
     "output_type": "execute_result"
    }
   ],
   "source": [
    "profiles['height'].describe()"
   ]
  },
  {
   "cell_type": "code",
   "execution_count": null,
   "metadata": {},
   "outputs": [
    {
     "data": {
      "text/plain": [
       "<Axes: xlabel='height'>"
      ]
     },
     "execution_count": 138,
     "metadata": {},
     "output_type": "execute_result"
    },
    {
     "data": {
      "image/png": "[encoded data removed]",
      "text/plain": [
       "<Figure size 640x480 with 1 Axes>"
      ]
     },
     "metadata": {},
     "output_type": "display_data"
    }
   ],
   "source": [
    "sns.boxplot(data = profiles, x = 'height')"
   ]
  },
  {
   "cell_type": "code",
   "execution_count": null,
   "metadata": {},
   "outputs": [
    {
     "data": {
      "text/plain": [
       "count    52615.000000\n",
       "mean        68.302651\n",
       "std          3.909330\n",
       "min         42.000000\n",
       "25%         66.000000\n",
       "50%         68.000000\n",
       "75%         71.000000\n",
       "max         95.000000\n",
       "Name: height, dtype: float64"
      ]
     },
     "execution_count": 139,
     "metadata": {},
     "output_type": "execute_result"
    }
   ],
   "source": [
    "profiles = profiles[profiles[\"height\"] >= 40]\n",
    "profiles['height'].describe()"
   ]
  },
  {
   "cell_type": "markdown",
   "metadata": {},
   "source": [
    "### Handling `income` outliers\n",
    "\n",
    "One Thing we can notice about our income attributre is that most of our entries are in the category -1"
   ]
  },
  {
   "cell_type": "code",
   "execution_count": null,
   "metadata": {},
   "outputs": [
    {
     "data": {
      "text/plain": [
       "income\n",
       "-1          42360\n",
       " 20000       2626\n",
       " 100000      1447\n",
       " 80000        979\n",
       " 30000        943\n",
       " 40000        894\n",
       " 50000        877\n",
       " 60000        667\n",
       " 70000        628\n",
       " 150000       574\n",
       " 1000000      450\n",
       " 250000       129\n",
       " 500000        41\n",
       "Name: count, dtype: int64"
      ]
     },
     "execution_count": 140,
     "metadata": {},
     "output_type": "execute_result"
    }
   ],
   "source": [
    "profiles.income.value_counts()"
   ]
  },
  {
   "cell_type": "code",
   "execution_count": null,
   "metadata": {},
   "outputs": [],
   "source": [
    "profiles.loc[profiles['income'] == -1, 'income'] = 0"
   ]
  },
  {
   "cell_type": "markdown",
   "metadata": {},
   "source": [
    "### Handling Inconsistent Variables"
   ]
  },
  {
   "cell_type": "code",
   "execution_count": null,
   "metadata": {},
   "outputs": [
    {
     "data": {
      "text/plain": [
       "location\n",
       "san francisco, california     27336\n",
       "oakland, california            6298\n",
       "berkeley, california           3723\n",
       "san mateo, california          1173\n",
       "palo alto, california           937\n",
       "                              ...  \n",
       "canyon country, california        1\n",
       "costa mesa, california            1\n",
       "honolulu, hawaii                  1\n",
       "murfreesboro, tennessee           1\n",
       "leander, texas                    1\n",
       "Name: count, Length: 189, dtype: int64"
      ]
     },
     "execution_count": 142,
     "metadata": {},
     "output_type": "execute_result"
    }
   ],
   "source": [
    "profiles.location.value_counts(dropna = False)"
   ]
  },
  {
   "cell_type": "markdown",
   "metadata": {},
   "source": [
    "### Body Type Variation\n",
    "\n",
    "As we can see most people on the site consider themselves to be either average or fit/athletic, you would expect this as most people with societaly dictated \"negative\" body type would not be confident enough to be on a dating website or less likely to report this feature of themselves accurately. "
   ]
  },
  {
   "cell_type": "code",
   "execution_count": null,
   "metadata": {},
   "outputs": [
    {
     "data": {
      "text/plain": [
       "body_type\n",
       "average           17281\n",
       "fit               11285\n",
       "athletic          10409\n",
       "thin               4166\n",
       "curvy              3481\n",
       "a little extra     2339\n",
       "skinny             1554\n",
       "full figured        870\n",
       "overweight          385\n",
       "jacked              368\n",
       "used up             307\n",
       "rather not say      170\n",
       "Name: count, dtype: int64"
      ]
     },
     "execution_count": 143,
     "metadata": {},
     "output_type": "execute_result"
    }
   ],
   "source": [
    "profiles['body_type'].value_counts(dropna = False)"
   ]
  },
  {
   "cell_type": "code",
   "execution_count": null,
   "metadata": {},
   "outputs": [
    {
     "data": {
      "image/png": "[encoded data removed]",
      "text/plain": [
       "<Figure size 640x480 with 1 Axes>"
      ]
     },
     "metadata": {},
     "output_type": "display_data"
    }
   ],
   "source": [
    "#My order is based on my own determination of a logical order for the available values for body_type based on my own perception of less fit to most fit\n",
    "my_order = ['rather not say', 'overweight', 'used up', 'curvy', 'full figured', 'a little extra', 'thin', 'skinny', 'average', 'fit', 'athletic', 'jacked']\n",
    "ax = sns.countplot(data = profiles, x = 'body_type', hue = 'body_type', order = my_order, hue_order = my_order)\n",
    "\n",
    "#Just wanted to put in the count values on top of each bar so as to better interpret the data for ease of interpretability. This is all done in 1000s points for fit.\n",
    "for axi in ax.patches:\n",
    "    height = axi.get_height()\n",
    "    ax.text(axi.get_x()+axi.get_width()/2.,\n",
    "            height + 3,\n",
    "            f'{round(axi.get_height() / 1000, 1)}K',\n",
    "            ha=\"center\")\n",
    "\n",
    "#rotate labels for no overlap     \n",
    "locs, labels = plt.xticks()\n",
    "plt.setp(labels, rotation=45)\n",
    "\n",
    "plt.show()"
   ]
  },
  {
   "cell_type": "markdown",
   "metadata": {},
   "source": [
    "### Handling Diet Nulls\n",
    "\n",
    "So when we look at the diet data we see that a wopping 68% of the data is NA so our users didnt specify diet data.\n",
    "\n",
    "It would be best to keep set nulls as a new category (\"not specified\")"
   ]
  },
  {
   "cell_type": "code",
   "execution_count": null,
   "metadata": {},
   "outputs": [],
   "source": [
    "###### I FIND THIS INSUFFICIENT ######\n",
    "# Probably want to compare the distribution of missing values according to age (maybe other variables) and present values to see if this missingness is actually random \n",
    "profiles['diet'] = profiles['diet'].fillna('anything')"
   ]
  },
  {
   "cell_type": "markdown",
   "metadata": {},
   "source": [
    "### Diet Variation\n",
    "\n",
    "Most people on the site expectedly have little to no dietary restriction or preference. Neglibile amounts of people on the dating site conform to religious diets (Maybe our site isn't that appealling to a religious audience)"
   ]
  },
  {
   "cell_type": "code",
   "execution_count": null,
   "metadata": {},
   "outputs": [
    {
     "data": {
      "text/plain": [
       "diet\n",
       "anything      24900\n",
       "missing       20855\n",
       "vegetarian     4455\n",
       "other          1583\n",
       "vegan           647\n",
       "kosher          105\n",
       "halal            70\n",
       "Name: count, dtype: int64"
      ]
     },
     "execution_count": 146,
     "metadata": {},
     "output_type": "execute_result"
    }
   ],
   "source": [
    "\n",
    "profiles['diet'].value_counts(dropna= False)"
   ]
  },
  {
   "cell_type": "code",
   "execution_count": null,
   "metadata": {},
   "outputs": [
    {
     "data": {
      "image/png": "[encoded data removed]",
      "text/plain": [
       "<Figure size 800x480 with 1 Axes>"
      ]
     },
     "metadata": {},
     "output_type": "display_data"
    }
   ],
   "source": [
    "plt.figure(figsize=(10,6), dpi=80)\n",
    "\n",
    "ax = sns.countplot(data = profiles, x = 'diet', hue = 'diet')\n",
    "\n",
    "#Just wanted to put in the count values on top of each bar so as to better interpret the data for ease of interpretability. This is all done in 1000s points for fit.\n",
    "for axi in ax.patches:\n",
    "    height = axi.get_height()\n",
    "    ax.text(axi.get_x()+axi.get_width()/2.,\n",
    "            height + 3,\n",
    "            f'{round(axi.get_height() / 1000, 1)}K',\n",
    "            ha=\"center\")\n",
    "\n",
    "#rotate labels for no overlap     \n",
    "locs, labels = plt.xticks()\n",
    "plt.setp(labels, rotation=45, ha = \"right\", x = -0.1)\n",
    "\n",
    "plt.show()"
   ]
  },
  {
   "cell_type": "markdown",
   "metadata": {},
   "source": [
    "###  Handling Drinks and Drugs Nulls\n",
    "\n",
    "So we have a few missing drugs and less amount of missing drinks. This would be a good time to test if people are just leaving the field empty for personal reasons or is it just random?\n",
    "\n",
    "From looking at the p values of the prevalence of drinks and drugs with other factors such as age, sex, income, edication and religion. \n",
    "\n",
    "1. We can see that people with certain religious beliefs are likely to skip drug related questions and to a lesser extent drink related questions.\n",
    "2. Socioeconomic and demograpgic factors influence response rates for these attributes"
   ]
  },
  {
   "cell_type": "code",
   "execution_count": null,
   "metadata": {},
   "outputs": [
    {
     "name": "stdout",
     "output_type": "stream",
     "text": [
      "Missingness in drugs vs. age: p-value = 1.0\n",
      "Missingness in drinks vs. age: p-value = 1.0\n",
      "Missingness in drugs vs. sex: p-value = 1.0\n",
      "Missingness in drinks vs. sex: p-value = 1.0\n"
     ]
    },
    {
     "ename": "KeyError",
     "evalue": "'education'",
     "output_type": "error",
     "traceback": [
      "\u001b[1;31m---------------------------------------------------------------------------\u001b[0m",
      "\u001b[1;31mKeyError\u001b[0m                                  Traceback (most recent call last)",
      "File \u001b[1;32mc:\\Users\\conor\\Desktop\\Coding\\Virtual_Environments\\envoid\\Lib\\site-packages\\pandas\\core\\indexes\\base.py:3805\u001b[0m, in \u001b[0;36mIndex.get_loc\u001b[1;34m(self, key)\u001b[0m\n\u001b[0;32m   3804\u001b[0m \u001b[38;5;28;01mtry\u001b[39;00m:\n\u001b[1;32m-> 3805\u001b[0m     \u001b[38;5;28;01mreturn\u001b[39;00m \u001b[38;5;28;43mself\u001b[39;49m\u001b[38;5;241;43m.\u001b[39;49m\u001b[43m_engine\u001b[49m\u001b[38;5;241;43m.\u001b[39;49m\u001b[43mget_loc\u001b[49m\u001b[43m(\u001b[49m\u001b[43mcasted_key\u001b[49m\u001b[43m)\u001b[49m\n\u001b[0;32m   3806\u001b[0m \u001b[38;5;28;01mexcept\u001b[39;00m \u001b[38;5;167;01mKeyError\u001b[39;00m \u001b[38;5;28;01mas\u001b[39;00m err:\n",
      "File \u001b[1;32mindex.pyx:167\u001b[0m, in \u001b[0;36mpandas._libs.index.IndexEngine.get_loc\u001b[1;34m()\u001b[0m\n",
      "File \u001b[1;32mindex.pyx:196\u001b[0m, in \u001b[0;36mpandas._libs.index.IndexEngine.get_loc\u001b[1;34m()\u001b[0m\n",
      "File \u001b[1;32mpandas\\\\_libs\\\\hashtable_class_helper.pxi:7081\u001b[0m, in \u001b[0;36mpandas._libs.hashtable.PyObjectHashTable.get_item\u001b[1;34m()\u001b[0m\n",
      "File \u001b[1;32mpandas\\\\_libs\\\\hashtable_class_helper.pxi:7089\u001b[0m, in \u001b[0;36mpandas._libs.hashtable.PyObjectHashTable.get_item\u001b[1;34m()\u001b[0m\n",
      "\u001b[1;31mKeyError\u001b[0m: 'education'",
      "\nThe above exception was the direct cause of the following exception:\n",
      "\u001b[1;31mKeyError\u001b[0m                                  Traceback (most recent call last)",
      "Cell \u001b[1;32mIn[148], line 13\u001b[0m\n\u001b[0;32m     10\u001b[0m     \u001b[38;5;28;01mreturn\u001b[39;00m p\n\u001b[0;32m     12\u001b[0m \u001b[38;5;28;01mfor\u001b[39;00m col \u001b[38;5;129;01min\u001b[39;00m [\u001b[38;5;124m'\u001b[39m\u001b[38;5;124mage\u001b[39m\u001b[38;5;124m'\u001b[39m, \u001b[38;5;124m'\u001b[39m\u001b[38;5;124msex\u001b[39m\u001b[38;5;124m'\u001b[39m, \u001b[38;5;124m'\u001b[39m\u001b[38;5;124meducation\u001b[39m\u001b[38;5;124m'\u001b[39m, \u001b[38;5;124m'\u001b[39m\u001b[38;5;124mincome\u001b[39m\u001b[38;5;124m'\u001b[39m, \u001b[38;5;124m'\u001b[39m\u001b[38;5;124mreligion\u001b[39m\u001b[38;5;124m'\u001b[39m]:\n\u001b[1;32m---> 13\u001b[0m     p_value \u001b[38;5;241m=\u001b[39m \u001b[43mchi_square_missing\u001b[49m\u001b[43m(\u001b[49m\u001b[43mprofiles\u001b[49m\u001b[43m,\u001b[49m\u001b[43m \u001b[49m\u001b[38;5;124;43m'\u001b[39;49m\u001b[38;5;124;43mdrugs\u001b[39;49m\u001b[38;5;124;43m'\u001b[39;49m\u001b[43m,\u001b[49m\u001b[43m \u001b[49m\u001b[43mcol\u001b[49m\u001b[43m)\u001b[49m\n\u001b[0;32m     14\u001b[0m     \u001b[38;5;28mprint\u001b[39m(\u001b[38;5;124mf\u001b[39m\u001b[38;5;124m\"\u001b[39m\u001b[38;5;124mMissingness in drugs vs. \u001b[39m\u001b[38;5;132;01m{\u001b[39;00mcol\u001b[38;5;132;01m}\u001b[39;00m\u001b[38;5;124m: p-value = \u001b[39m\u001b[38;5;132;01m{\u001b[39;00mp_value\u001b[38;5;132;01m}\u001b[39;00m\u001b[38;5;124m\"\u001b[39m)\n\u001b[0;32m     16\u001b[0m     p_value \u001b[38;5;241m=\u001b[39m chi_square_missing(profiles, \u001b[38;5;124m'\u001b[39m\u001b[38;5;124mdrinks\u001b[39m\u001b[38;5;124m'\u001b[39m, col)\n",
      "Cell \u001b[1;32mIn[148], line 7\u001b[0m, in \u001b[0;36mchi_square_missing\u001b[1;34m(profiles, missing_col, categorical_col)\u001b[0m\n\u001b[0;32m      4\u001b[0m profiles_copy \u001b[38;5;241m=\u001b[39m profiles\u001b[38;5;241m.\u001b[39mcopy()\n\u001b[0;32m      5\u001b[0m profiles_copy[\u001b[38;5;124m'\u001b[39m\u001b[38;5;124mmissing\u001b[39m\u001b[38;5;124m'\u001b[39m] \u001b[38;5;241m=\u001b[39m profiles_copy[missing_col]\u001b[38;5;241m.\u001b[39misna()\u001b[38;5;241m.\u001b[39mastype(\u001b[38;5;28mint\u001b[39m)\n\u001b[1;32m----> 7\u001b[0m contingency_table \u001b[38;5;241m=\u001b[39m pd\u001b[38;5;241m.\u001b[39mcrosstab(profiles_copy[\u001b[38;5;124m'\u001b[39m\u001b[38;5;124mmissing\u001b[39m\u001b[38;5;124m'\u001b[39m], \u001b[43mprofiles_copy\u001b[49m\u001b[43m[\u001b[49m\u001b[43mcategorical_col\u001b[49m\u001b[43m]\u001b[49m)\n\u001b[0;32m      8\u001b[0m chi2, p, dof, expected \u001b[38;5;241m=\u001b[39m chi2_contingency(contingency_table)\n\u001b[0;32m     10\u001b[0m \u001b[38;5;28;01mreturn\u001b[39;00m p\n",
      "File \u001b[1;32mc:\\Users\\conor\\Desktop\\Coding\\Virtual_Environments\\envoid\\Lib\\site-packages\\pandas\\core\\frame.py:4102\u001b[0m, in \u001b[0;36mDataFrame.__getitem__\u001b[1;34m(self, key)\u001b[0m\n\u001b[0;32m   4100\u001b[0m \u001b[38;5;28;01mif\u001b[39;00m \u001b[38;5;28mself\u001b[39m\u001b[38;5;241m.\u001b[39mcolumns\u001b[38;5;241m.\u001b[39mnlevels \u001b[38;5;241m>\u001b[39m \u001b[38;5;241m1\u001b[39m:\n\u001b[0;32m   4101\u001b[0m     \u001b[38;5;28;01mreturn\u001b[39;00m \u001b[38;5;28mself\u001b[39m\u001b[38;5;241m.\u001b[39m_getitem_multilevel(key)\n\u001b[1;32m-> 4102\u001b[0m indexer \u001b[38;5;241m=\u001b[39m \u001b[38;5;28;43mself\u001b[39;49m\u001b[38;5;241;43m.\u001b[39;49m\u001b[43mcolumns\u001b[49m\u001b[38;5;241;43m.\u001b[39;49m\u001b[43mget_loc\u001b[49m\u001b[43m(\u001b[49m\u001b[43mkey\u001b[49m\u001b[43m)\u001b[49m\n\u001b[0;32m   4103\u001b[0m \u001b[38;5;28;01mif\u001b[39;00m is_integer(indexer):\n\u001b[0;32m   4104\u001b[0m     indexer \u001b[38;5;241m=\u001b[39m [indexer]\n",
      "File \u001b[1;32mc:\\Users\\conor\\Desktop\\Coding\\Virtual_Environments\\envoid\\Lib\\site-packages\\pandas\\core\\indexes\\base.py:3812\u001b[0m, in \u001b[0;36mIndex.get_loc\u001b[1;34m(self, key)\u001b[0m\n\u001b[0;32m   3807\u001b[0m     \u001b[38;5;28;01mif\u001b[39;00m \u001b[38;5;28misinstance\u001b[39m(casted_key, \u001b[38;5;28mslice\u001b[39m) \u001b[38;5;129;01mor\u001b[39;00m (\n\u001b[0;32m   3808\u001b[0m         \u001b[38;5;28misinstance\u001b[39m(casted_key, abc\u001b[38;5;241m.\u001b[39mIterable)\n\u001b[0;32m   3809\u001b[0m         \u001b[38;5;129;01mand\u001b[39;00m \u001b[38;5;28many\u001b[39m(\u001b[38;5;28misinstance\u001b[39m(x, \u001b[38;5;28mslice\u001b[39m) \u001b[38;5;28;01mfor\u001b[39;00m x \u001b[38;5;129;01min\u001b[39;00m casted_key)\n\u001b[0;32m   3810\u001b[0m     ):\n\u001b[0;32m   3811\u001b[0m         \u001b[38;5;28;01mraise\u001b[39;00m InvalidIndexError(key)\n\u001b[1;32m-> 3812\u001b[0m     \u001b[38;5;28;01mraise\u001b[39;00m \u001b[38;5;167;01mKeyError\u001b[39;00m(key) \u001b[38;5;28;01mfrom\u001b[39;00m\u001b[38;5;250m \u001b[39m\u001b[38;5;21;01merr\u001b[39;00m\n\u001b[0;32m   3813\u001b[0m \u001b[38;5;28;01mexcept\u001b[39;00m \u001b[38;5;167;01mTypeError\u001b[39;00m:\n\u001b[0;32m   3814\u001b[0m     \u001b[38;5;66;03m# If we have a listlike key, _check_indexing_error will raise\u001b[39;00m\n\u001b[0;32m   3815\u001b[0m     \u001b[38;5;66;03m#  InvalidIndexError. Otherwise we fall through and re-raise\u001b[39;00m\n\u001b[0;32m   3816\u001b[0m     \u001b[38;5;66;03m#  the TypeError.\u001b[39;00m\n\u001b[0;32m   3817\u001b[0m     \u001b[38;5;28mself\u001b[39m\u001b[38;5;241m.\u001b[39m_check_indexing_error(key)\n",
      "\u001b[1;31mKeyError\u001b[0m: 'education'"
     ]
    }
   ],
   "source": [
    "from scipy.stats import chi2_contingency\n",
    "\n",
    "def chi_square_missing(profiles, missing_col, categorical_col): # < 0.05 returned suggests MAR\n",
    "    profiles_copy = profiles.copy()\n",
    "    profiles_copy['missing'] = profiles_copy[missing_col].isna().astype(int)\n",
    "\n",
    "    contingency_table = pd.crosstab(profiles_copy['missing'], profiles_copy[categorical_col])\n",
    "    chi2, p, dof, expected = chi2_contingency(contingency_table)\n",
    "\n",
    "    return p\n",
    "\n",
    "for col in ['age', 'sex', 'education', 'income', 'religion']:\n",
    "    p_value = chi_square_missing(profiles, 'drugs', col)\n",
    "    print(f\"Missingness in drugs vs. {col}: p-value = {p_value}\")\n",
    "\n",
    "    p_value = chi_square_missing(profiles, 'drinks', col)\n",
    "    print(f\"Missingness in drinks vs. {col}: p-value = {p_value}\")"
   ]
  },
  {
   "cell_type": "markdown",
   "metadata": {},
   "source": [
    "### Drink and Drugs Variation\n",
    "\n",
    "While the drinks attribute has a "
   ]
  },
  {
   "cell_type": "code",
   "execution_count": null,
   "metadata": {},
   "outputs": [],
   "source": [
    "print(profiles['drugs'].value_counts(dropna = False), \"\\n\")\n",
    "print(profiles['drinks'].value_counts(dropna = False))"
   ]
  },
  {
   "cell_type": "code",
   "execution_count": null,
   "metadata": {},
   "outputs": [],
   "source": [
    "ax = sns.countplot(data = profiles[profiles['drugs'] != 'never'], x = 'drinks', hue = 'drugs', )\n",
    "plt.show()"
   ]
  },
  {
   "cell_type": "markdown",
   "metadata": {},
   "source": [
    "### Education Variation\n",
    "\n",
    "This attribute is need of serious cleaning!"
   ]
  },
  {
   "cell_type": "code",
   "execution_count": null,
   "metadata": {},
   "outputs": [],
   "source": [
    "edu_desc = profiles['education'].describe()\n",
    "print(edu_desc)\n",
    "profiles['education'].value_counts()"
   ]
  }
 ],
 "metadata": {
  "kernelspec": {
   "display_name": "envoid",
   "language": "python",
   "name": "python3"
  },
  "language_info": {
   "codemirror_mode": {
    "name": "ipython",
    "version": 3
   },
   "file_extension": ".py",
   "mimetype": "text/x-python",
   "name": "python",
   "nbconvert_exporter": "python",
   "pygments_lexer": "ipython3",
   "version": "3.13.2"
  }
 },
 "nbformat": 4,
 "nbformat_minor": 4
}
